{
 "cells": [
  {
   "cell_type": "code",
   "id": "c1316274-3409-489d-ae93-4971394c56c9",
   "metadata": {
    "ExecuteTime": {
     "end_time": "2025-05-19T16:39:23.064502Z",
     "start_time": "2025-05-19T16:39:22.866271Z"
    }
   },
   "source": [
    "import pyspark"
   ],
   "outputs": [],
   "execution_count": 1
  },
  {
   "cell_type": "code",
   "id": "be151ac9-5ffd-408d-a899-a6535c0ff698",
   "metadata": {
    "ExecuteTime": {
     "end_time": "2025-05-19T16:39:24.131895Z",
     "start_time": "2025-05-19T16:39:23.072562Z"
    }
   },
   "source": [
    "import pandas as pd"
   ],
   "outputs": [],
   "execution_count": 2
  },
  {
   "cell_type": "code",
   "id": "ed526cd6-9423-4076-bdb6-d5b0f03aeebf",
   "metadata": {
    "ExecuteTime": {
     "end_time": "2025-05-19T16:39:24.224494Z",
     "start_time": "2025-05-19T16:39:24.205796Z"
    }
   },
   "source": [
    "pd.read_csv('student_habits_performance.csv')"
   ],
   "outputs": [
    {
     "data": {
      "text/plain": [
       "    student_id  age  gender  study_hours_per_day  social_media_hours  \\\n",
       "0        S1000   23  Female                  0.0                 1.2   \n",
       "1        S1001   20  Female                  6.9                 2.8   \n",
       "2        S1002   21    Male                  1.4                 3.1   \n",
       "3        S1003   23  Female                  1.0                 3.9   \n",
       "4        S1004   19  Female                  5.0                 4.4   \n",
       "..         ...  ...     ...                  ...                 ...   \n",
       "995      S1995   21  Female                  2.6                 0.5   \n",
       "996      S1996   17  Female                  2.9                 1.0   \n",
       "997      S1997   20    Male                  3.0                 2.6   \n",
       "998      S1998   24    Male                  5.4                 4.1   \n",
       "999      S1999   19  Female                  4.3                 2.9   \n",
       "\n",
       "     netflix_hours part_time_job  attendance_percentage  sleep_hours  \\\n",
       "0              1.1            No                   85.0          8.0   \n",
       "1              2.3            No                   97.3          4.6   \n",
       "2              1.3            No                   94.8          8.0   \n",
       "3              1.0            No                   71.0          9.2   \n",
       "4              0.5            No                   90.9          4.9   \n",
       "..             ...           ...                    ...          ...   \n",
       "995            1.6            No                   77.0          7.5   \n",
       "996            2.4           Yes                   86.0          6.8   \n",
       "997            1.3            No                   61.9          6.5   \n",
       "998            1.1           Yes                  100.0          7.6   \n",
       "999            1.9            No                   89.4          7.1   \n",
       "\n",
       "    diet_quality  exercise_frequency parental_education_level  \\\n",
       "0           Fair                   6                   Master   \n",
       "1           Good                   6              High School   \n",
       "2           Poor                   1              High School   \n",
       "3           Poor                   4                   Master   \n",
       "4           Fair                   3                   Master   \n",
       "..           ...                 ...                      ...   \n",
       "995         Fair                   2              High School   \n",
       "996         Poor                   1              High School   \n",
       "997         Good                   5                 Bachelor   \n",
       "998         Fair                   0                 Bachelor   \n",
       "999         Good                   2                 Bachelor   \n",
       "\n",
       "    internet_quality  mental_health_rating extracurricular_participation  \\\n",
       "0            Average                     8                           Yes   \n",
       "1            Average                     8                            No   \n",
       "2               Poor                     1                            No   \n",
       "3               Good                     1                           Yes   \n",
       "4               Good                     1                            No   \n",
       "..               ...                   ...                           ...   \n",
       "995             Good                     6                           Yes   \n",
       "996          Average                     6                           Yes   \n",
       "997             Good                     9                           Yes   \n",
       "998          Average                     1                            No   \n",
       "999          Average                     8                            No   \n",
       "\n",
       "     exam_score  \n",
       "0          56.2  \n",
       "1         100.0  \n",
       "2          34.3  \n",
       "3          26.8  \n",
       "4          66.4  \n",
       "..          ...  \n",
       "995        76.1  \n",
       "996        65.9  \n",
       "997        64.4  \n",
       "998        69.7  \n",
       "999        74.9  \n",
       "\n",
       "[1000 rows x 16 columns]"
      ],
      "text/html": [
       "<div>\n",
       "<style scoped>\n",
       "    .dataframe tbody tr th:only-of-type {\n",
       "        vertical-align: middle;\n",
       "    }\n",
       "\n",
       "    .dataframe tbody tr th {\n",
       "        vertical-align: top;\n",
       "    }\n",
       "\n",
       "    .dataframe thead th {\n",
       "        text-align: right;\n",
       "    }\n",
       "</style>\n",
       "<table border=\"1\" class=\"dataframe\">\n",
       "  <thead>\n",
       "    <tr style=\"text-align: right;\">\n",
       "      <th></th>\n",
       "      <th>student_id</th>\n",
       "      <th>age</th>\n",
       "      <th>gender</th>\n",
       "      <th>study_hours_per_day</th>\n",
       "      <th>social_media_hours</th>\n",
       "      <th>netflix_hours</th>\n",
       "      <th>part_time_job</th>\n",
       "      <th>attendance_percentage</th>\n",
       "      <th>sleep_hours</th>\n",
       "      <th>diet_quality</th>\n",
       "      <th>exercise_frequency</th>\n",
       "      <th>parental_education_level</th>\n",
       "      <th>internet_quality</th>\n",
       "      <th>mental_health_rating</th>\n",
       "      <th>extracurricular_participation</th>\n",
       "      <th>exam_score</th>\n",
       "    </tr>\n",
       "  </thead>\n",
       "  <tbody>\n",
       "    <tr>\n",
       "      <th>0</th>\n",
       "      <td>S1000</td>\n",
       "      <td>23</td>\n",
       "      <td>Female</td>\n",
       "      <td>0.0</td>\n",
       "      <td>1.2</td>\n",
       "      <td>1.1</td>\n",
       "      <td>No</td>\n",
       "      <td>85.0</td>\n",
       "      <td>8.0</td>\n",
       "      <td>Fair</td>\n",
       "      <td>6</td>\n",
       "      <td>Master</td>\n",
       "      <td>Average</td>\n",
       "      <td>8</td>\n",
       "      <td>Yes</td>\n",
       "      <td>56.2</td>\n",
       "    </tr>\n",
       "    <tr>\n",
       "      <th>1</th>\n",
       "      <td>S1001</td>\n",
       "      <td>20</td>\n",
       "      <td>Female</td>\n",
       "      <td>6.9</td>\n",
       "      <td>2.8</td>\n",
       "      <td>2.3</td>\n",
       "      <td>No</td>\n",
       "      <td>97.3</td>\n",
       "      <td>4.6</td>\n",
       "      <td>Good</td>\n",
       "      <td>6</td>\n",
       "      <td>High School</td>\n",
       "      <td>Average</td>\n",
       "      <td>8</td>\n",
       "      <td>No</td>\n",
       "      <td>100.0</td>\n",
       "    </tr>\n",
       "    <tr>\n",
       "      <th>2</th>\n",
       "      <td>S1002</td>\n",
       "      <td>21</td>\n",
       "      <td>Male</td>\n",
       "      <td>1.4</td>\n",
       "      <td>3.1</td>\n",
       "      <td>1.3</td>\n",
       "      <td>No</td>\n",
       "      <td>94.8</td>\n",
       "      <td>8.0</td>\n",
       "      <td>Poor</td>\n",
       "      <td>1</td>\n",
       "      <td>High School</td>\n",
       "      <td>Poor</td>\n",
       "      <td>1</td>\n",
       "      <td>No</td>\n",
       "      <td>34.3</td>\n",
       "    </tr>\n",
       "    <tr>\n",
       "      <th>3</th>\n",
       "      <td>S1003</td>\n",
       "      <td>23</td>\n",
       "      <td>Female</td>\n",
       "      <td>1.0</td>\n",
       "      <td>3.9</td>\n",
       "      <td>1.0</td>\n",
       "      <td>No</td>\n",
       "      <td>71.0</td>\n",
       "      <td>9.2</td>\n",
       "      <td>Poor</td>\n",
       "      <td>4</td>\n",
       "      <td>Master</td>\n",
       "      <td>Good</td>\n",
       "      <td>1</td>\n",
       "      <td>Yes</td>\n",
       "      <td>26.8</td>\n",
       "    </tr>\n",
       "    <tr>\n",
       "      <th>4</th>\n",
       "      <td>S1004</td>\n",
       "      <td>19</td>\n",
       "      <td>Female</td>\n",
       "      <td>5.0</td>\n",
       "      <td>4.4</td>\n",
       "      <td>0.5</td>\n",
       "      <td>No</td>\n",
       "      <td>90.9</td>\n",
       "      <td>4.9</td>\n",
       "      <td>Fair</td>\n",
       "      <td>3</td>\n",
       "      <td>Master</td>\n",
       "      <td>Good</td>\n",
       "      <td>1</td>\n",
       "      <td>No</td>\n",
       "      <td>66.4</td>\n",
       "    </tr>\n",
       "    <tr>\n",
       "      <th>...</th>\n",
       "      <td>...</td>\n",
       "      <td>...</td>\n",
       "      <td>...</td>\n",
       "      <td>...</td>\n",
       "      <td>...</td>\n",
       "      <td>...</td>\n",
       "      <td>...</td>\n",
       "      <td>...</td>\n",
       "      <td>...</td>\n",
       "      <td>...</td>\n",
       "      <td>...</td>\n",
       "      <td>...</td>\n",
       "      <td>...</td>\n",
       "      <td>...</td>\n",
       "      <td>...</td>\n",
       "      <td>...</td>\n",
       "    </tr>\n",
       "    <tr>\n",
       "      <th>995</th>\n",
       "      <td>S1995</td>\n",
       "      <td>21</td>\n",
       "      <td>Female</td>\n",
       "      <td>2.6</td>\n",
       "      <td>0.5</td>\n",
       "      <td>1.6</td>\n",
       "      <td>No</td>\n",
       "      <td>77.0</td>\n",
       "      <td>7.5</td>\n",
       "      <td>Fair</td>\n",
       "      <td>2</td>\n",
       "      <td>High School</td>\n",
       "      <td>Good</td>\n",
       "      <td>6</td>\n",
       "      <td>Yes</td>\n",
       "      <td>76.1</td>\n",
       "    </tr>\n",
       "    <tr>\n",
       "      <th>996</th>\n",
       "      <td>S1996</td>\n",
       "      <td>17</td>\n",
       "      <td>Female</td>\n",
       "      <td>2.9</td>\n",
       "      <td>1.0</td>\n",
       "      <td>2.4</td>\n",
       "      <td>Yes</td>\n",
       "      <td>86.0</td>\n",
       "      <td>6.8</td>\n",
       "      <td>Poor</td>\n",
       "      <td>1</td>\n",
       "      <td>High School</td>\n",
       "      <td>Average</td>\n",
       "      <td>6</td>\n",
       "      <td>Yes</td>\n",
       "      <td>65.9</td>\n",
       "    </tr>\n",
       "    <tr>\n",
       "      <th>997</th>\n",
       "      <td>S1997</td>\n",
       "      <td>20</td>\n",
       "      <td>Male</td>\n",
       "      <td>3.0</td>\n",
       "      <td>2.6</td>\n",
       "      <td>1.3</td>\n",
       "      <td>No</td>\n",
       "      <td>61.9</td>\n",
       "      <td>6.5</td>\n",
       "      <td>Good</td>\n",
       "      <td>5</td>\n",
       "      <td>Bachelor</td>\n",
       "      <td>Good</td>\n",
       "      <td>9</td>\n",
       "      <td>Yes</td>\n",
       "      <td>64.4</td>\n",
       "    </tr>\n",
       "    <tr>\n",
       "      <th>998</th>\n",
       "      <td>S1998</td>\n",
       "      <td>24</td>\n",
       "      <td>Male</td>\n",
       "      <td>5.4</td>\n",
       "      <td>4.1</td>\n",
       "      <td>1.1</td>\n",
       "      <td>Yes</td>\n",
       "      <td>100.0</td>\n",
       "      <td>7.6</td>\n",
       "      <td>Fair</td>\n",
       "      <td>0</td>\n",
       "      <td>Bachelor</td>\n",
       "      <td>Average</td>\n",
       "      <td>1</td>\n",
       "      <td>No</td>\n",
       "      <td>69.7</td>\n",
       "    </tr>\n",
       "    <tr>\n",
       "      <th>999</th>\n",
       "      <td>S1999</td>\n",
       "      <td>19</td>\n",
       "      <td>Female</td>\n",
       "      <td>4.3</td>\n",
       "      <td>2.9</td>\n",
       "      <td>1.9</td>\n",
       "      <td>No</td>\n",
       "      <td>89.4</td>\n",
       "      <td>7.1</td>\n",
       "      <td>Good</td>\n",
       "      <td>2</td>\n",
       "      <td>Bachelor</td>\n",
       "      <td>Average</td>\n",
       "      <td>8</td>\n",
       "      <td>No</td>\n",
       "      <td>74.9</td>\n",
       "    </tr>\n",
       "  </tbody>\n",
       "</table>\n",
       "<p>1000 rows × 16 columns</p>\n",
       "</div>"
      ]
     },
     "execution_count": 3,
     "metadata": {},
     "output_type": "execute_result"
    }
   ],
   "execution_count": 3
  },
  {
   "cell_type": "code",
   "id": "cd4f1b99c7ceb953",
   "metadata": {
    "ExecuteTime": {
     "end_time": "2025-05-19T16:39:26.191522Z",
     "start_time": "2025-05-19T16:39:24.295639Z"
    }
   },
   "source": [
    "spark = pyspark.sql.SparkSession.builder.appName('Habits').getOrCreate()"
   ],
   "outputs": [
    {
     "name": "stderr",
     "output_type": "stream",
     "text": [
      "25/05/19 19:39:25 WARN Utils: Your hostname, MacBook-Air-Vladyslav.local resolves to a loopback address: 127.0.0.1; using 192.168.31.253 instead (on interface en0)\n",
      "25/05/19 19:39:25 WARN Utils: Set SPARK_LOCAL_IP if you need to bind to another address\n",
      "Setting default log level to \"WARN\".\n",
      "To adjust logging level use sc.setLogLevel(newLevel). For SparkR, use setLogLevel(newLevel).\n",
      "25/05/19 19:39:25 WARN NativeCodeLoader: Unable to load native-hadoop library for your platform... using builtin-java classes where applicable\n"
     ]
    }
   ],
   "execution_count": 4
  },
  {
   "cell_type": "code",
   "id": "d1a46abab66a4b00",
   "metadata": {
    "ExecuteTime": {
     "end_time": "2025-05-19T16:39:26.595892Z",
     "start_time": "2025-05-19T16:39:26.224264Z"
    }
   },
   "source": [
    "spark"
   ],
   "outputs": [
    {
     "data": {
      "text/plain": [
       "<pyspark.sql.session.SparkSession at 0x106878af0>"
      ],
      "text/html": [
       "\n",
       "            <div>\n",
       "                <p><b>SparkSession - in-memory</b></p>\n",
       "                \n",
       "        <div>\n",
       "            <p><b>SparkContext</b></p>\n",
       "\n",
       "            <p><a href=\"http://192.168.31.253:4040\">Spark UI</a></p>\n",
       "\n",
       "            <dl>\n",
       "              <dt>Version</dt>\n",
       "                <dd><code>v3.5.5</code></dd>\n",
       "              <dt>Master</dt>\n",
       "                <dd><code>local[*]</code></dd>\n",
       "              <dt>AppName</dt>\n",
       "                <dd><code>Habits</code></dd>\n",
       "            </dl>\n",
       "        </div>\n",
       "        \n",
       "            </div>\n",
       "        "
      ]
     },
     "execution_count": 5,
     "metadata": {},
     "output_type": "execute_result"
    }
   ],
   "execution_count": 5
  },
  {
   "cell_type": "code",
   "id": "bdf42c2087675956",
   "metadata": {
    "ExecuteTime": {
     "end_time": "2025-05-19T16:39:28.517764Z",
     "start_time": "2025-05-19T16:39:26.635793Z"
    }
   },
   "source": [
    "df_pyspark = spark.read.csv('student_habits_performance.csv')"
   ],
   "outputs": [],
   "execution_count": 6
  },
  {
   "cell_type": "code",
   "id": "a3b0c93307d9b307",
   "metadata": {
    "ExecuteTime": {
     "end_time": "2025-05-19T16:39:28.770815Z",
     "start_time": "2025-05-19T16:39:28.535995Z"
    }
   },
   "source": [
    "spark.read.option('header', 'true').csv('student_habits_performance.csv').show()"
   ],
   "outputs": [
    {
     "name": "stdout",
     "output_type": "stream",
     "text": [
      "+----------+---+------+-------------------+------------------+-------------+-------------+---------------------+-----------+------------+------------------+------------------------+----------------+--------------------+-----------------------------+----------+\n",
      "|student_id|age|gender|study_hours_per_day|social_media_hours|netflix_hours|part_time_job|attendance_percentage|sleep_hours|diet_quality|exercise_frequency|parental_education_level|internet_quality|mental_health_rating|extracurricular_participation|exam_score|\n",
      "+----------+---+------+-------------------+------------------+-------------+-------------+---------------------+-----------+------------+------------------+------------------------+----------------+--------------------+-----------------------------+----------+\n",
      "|     S1000| 23|Female|                0.0|               1.2|          1.1|           No|                 85.0|        8.0|        Fair|                 6|                  Master|         Average|                   8|                          Yes|      56.2|\n",
      "|     S1001| 20|Female|                6.9|               2.8|          2.3|           No|                 97.3|        4.6|        Good|                 6|             High School|         Average|                   8|                           No|     100.0|\n",
      "|     S1002| 21|  Male|                1.4|               3.1|          1.3|           No|                 94.8|        8.0|        Poor|                 1|             High School|            Poor|                   1|                           No|      34.3|\n",
      "|     S1003| 23|Female|                1.0|               3.9|          1.0|           No|                 71.0|        9.2|        Poor|                 4|                  Master|            Good|                   1|                          Yes|      26.8|\n",
      "|     S1004| 19|Female|                5.0|               4.4|          0.5|           No|                 90.9|        4.9|        Fair|                 3|                  Master|            Good|                   1|                           No|      66.4|\n",
      "|     S1005| 24|  Male|                7.2|               1.3|          0.0|           No|                 82.9|        7.4|        Fair|                 1|                  Master|         Average|                   4|                           No|     100.0|\n",
      "|     S1006| 21|Female|                5.6|               1.5|          1.4|          Yes|                 85.8|        6.5|        Good|                 2|                  Master|            Poor|                   4|                           No|      89.8|\n",
      "|     S1007| 21|Female|                4.3|               1.0|          2.0|          Yes|                 77.7|        4.6|        Fair|                 0|                Bachelor|         Average|                   8|                           No|      72.6|\n",
      "|     S1008| 23|Female|                4.4|               2.2|          1.7|           No|                100.0|        7.1|        Good|                 3|                Bachelor|            Good|                   1|                           No|      78.9|\n",
      "|     S1009| 18|Female|                4.8|               3.1|          1.3|           No|                 95.4|        7.5|        Good|                 5|                Bachelor|            Good|                  10|                          Yes|     100.0|\n",
      "|     S1010| 19|Female|                4.6|               3.7|          0.8|           No|                 77.6|        5.8|        Fair|                 1|                    None|            Good|                   3|                           No|      63.3|\n",
      "|     S1011| 23|  Male|                3.9|               2.4|          2.5|           No|                 71.7|        7.9|        Fair|                 2|                Bachelor|         Average|                   1|                           No|      74.4|\n",
      "|     S1012| 19|Female|                3.7|               2.1|          0.4|          Yes|                 81.1|        4.5|        Fair|                 1|                Bachelor|            Good|                   9|                           No|      76.9|\n",
      "|     S1013| 19|Female|                3.4|               2.7|          2.7|           No|                 89.3|        4.7|        Fair|                 4|                Bachelor|            Good|                  10|                           No|      75.8|\n",
      "|     S1014| 24|  Male|                2.4|               1.5|          0.7|           No|                 87.4|        6.7|        Poor|                 6|                Bachelor|         Average|                   9|                           No|      78.9|\n",
      "|     S1015| 21|  Male|                3.1|               5.0|          1.0|           No|                 97.5|        6.5|        Good|                 6|             High School|         Average|                   7|                           No|      74.0|\n",
      "|     S1016| 20|  Male|                1.0|               0.6|          0.2|           No|                 92.9|        5.6|        Poor|                 3|             High School|            Poor|                   8|                          Yes|      55.2|\n",
      "|     S1017| 24|Female|                3.4|               2.7|          1.2|           No|                 94.7|        7.5|        Poor|                 0|             High School|         Average|                   1|                          Yes|      70.8|\n",
      "|     S1018| 24| Other|                2.0|               4.9|          2.9|          Yes|                 88.3|        7.1|        Good|                 2|             High School|            Good|                   5|                           No|      43.9|\n",
      "|     S1019| 19|  Male|                1.8|               2.5|          2.4|           No|                 71.1|        7.5|        Fair|                 1|             High School|         Average|                   2|                           No|      45.3|\n",
      "+----------+---+------+-------------------+------------------+-------------+-------------+---------------------+-----------+------------+------------------+------------------------+----------------+--------------------+-----------------------------+----------+\n",
      "only showing top 20 rows\n",
      "\n"
     ]
    }
   ],
   "execution_count": 7
  },
  {
   "cell_type": "code",
   "id": "e76bf762-4367-4351-9783-262b79a6cb36",
   "metadata": {
    "ExecuteTime": {
     "end_time": "2025-05-19T16:39:28.803001Z",
     "start_time": "2025-05-19T16:39:28.798036Z"
    }
   },
   "source": [
    "type(df_pyspark)"
   ],
   "outputs": [
    {
     "data": {
      "text/plain": [
       "pyspark.sql.dataframe.DataFrame"
      ]
     },
     "execution_count": 8,
     "metadata": {},
     "output_type": "execute_result"
    }
   ],
   "execution_count": 8
  },
  {
   "cell_type": "code",
   "id": "4714e16d-0ced-4aa1-b761-bcc69bd821c3",
   "metadata": {
    "ExecuteTime": {
     "end_time": "2025-05-19T16:39:28.868067Z",
     "start_time": "2025-05-19T16:39:28.863917Z"
    }
   },
   "source": [
    "df_pyspark.printSchema()"
   ],
   "outputs": [
    {
     "name": "stdout",
     "output_type": "stream",
     "text": [
      "root\n",
      " |-- _c0: string (nullable = true)\n",
      " |-- _c1: string (nullable = true)\n",
      " |-- _c2: string (nullable = true)\n",
      " |-- _c3: string (nullable = true)\n",
      " |-- _c4: string (nullable = true)\n",
      " |-- _c5: string (nullable = true)\n",
      " |-- _c6: string (nullable = true)\n",
      " |-- _c7: string (nullable = true)\n",
      " |-- _c8: string (nullable = true)\n",
      " |-- _c9: string (nullable = true)\n",
      " |-- _c10: string (nullable = true)\n",
      " |-- _c11: string (nullable = true)\n",
      " |-- _c12: string (nullable = true)\n",
      " |-- _c13: string (nullable = true)\n",
      " |-- _c14: string (nullable = true)\n",
      " |-- _c15: string (nullable = true)\n",
      "\n"
     ]
    }
   ],
   "execution_count": 9
  },
  {
   "cell_type": "code",
   "id": "68bee55c-ee9b-45f1-a018-8a32cd75f71a",
   "metadata": {
    "ExecuteTime": {
     "end_time": "2025-05-19T16:39:28.974202Z",
     "start_time": "2025-05-19T16:39:28.969568Z"
    }
   },
   "source": "df_pyspark",
   "outputs": [
    {
     "data": {
      "text/plain": [
       "DataFrame[_c0: string, _c1: string, _c2: string, _c3: string, _c4: string, _c5: string, _c6: string, _c7: string, _c8: string, _c9: string, _c10: string, _c11: string, _c12: string, _c13: string, _c14: string, _c15: string]"
      ]
     },
     "execution_count": 10,
     "metadata": {},
     "output_type": "execute_result"
    }
   ],
   "execution_count": 10
  },
  {
   "metadata": {
    "ExecuteTime": {
     "end_time": "2025-05-19T16:39:29.138712Z",
     "start_time": "2025-05-19T16:39:29.004448Z"
    }
   },
   "cell_type": "code",
   "source": "df_pyspark.select(['_c0', '_c1']).show()",
   "id": "14b3c0f7041168d1",
   "outputs": [
    {
     "name": "stdout",
     "output_type": "stream",
     "text": [
      "+----------+---+\n",
      "|       _c0|_c1|\n",
      "+----------+---+\n",
      "|student_id|age|\n",
      "|     S1000| 23|\n",
      "|     S1001| 20|\n",
      "|     S1002| 21|\n",
      "|     S1003| 23|\n",
      "|     S1004| 19|\n",
      "|     S1005| 24|\n",
      "|     S1006| 21|\n",
      "|     S1007| 21|\n",
      "|     S1008| 23|\n",
      "|     S1009| 18|\n",
      "|     S1010| 19|\n",
      "|     S1011| 23|\n",
      "|     S1012| 19|\n",
      "|     S1013| 19|\n",
      "|     S1014| 24|\n",
      "|     S1015| 21|\n",
      "|     S1016| 20|\n",
      "|     S1017| 24|\n",
      "|     S1018| 24|\n",
      "+----------+---+\n",
      "only showing top 20 rows\n",
      "\n"
     ]
    }
   ],
   "execution_count": 11
  },
  {
   "metadata": {
    "ExecuteTime": {
     "end_time": "2025-05-19T16:39:29.263932Z",
     "start_time": "2025-05-19T16:39:29.259028Z"
    }
   },
   "cell_type": "code",
   "source": "df_pyspark.dtypes",
   "id": "26c8c959148ca02e",
   "outputs": [
    {
     "data": {
      "text/plain": [
       "[('_c0', 'string'),\n",
       " ('_c1', 'string'),\n",
       " ('_c2', 'string'),\n",
       " ('_c3', 'string'),\n",
       " ('_c4', 'string'),\n",
       " ('_c5', 'string'),\n",
       " ('_c6', 'string'),\n",
       " ('_c7', 'string'),\n",
       " ('_c8', 'string'),\n",
       " ('_c9', 'string'),\n",
       " ('_c10', 'string'),\n",
       " ('_c11', 'string'),\n",
       " ('_c12', 'string'),\n",
       " ('_c13', 'string'),\n",
       " ('_c14', 'string'),\n",
       " ('_c15', 'string')]"
      ]
     },
     "execution_count": 12,
     "metadata": {},
     "output_type": "execute_result"
    }
   ],
   "execution_count": 12
  },
  {
   "metadata": {
    "ExecuteTime": {
     "end_time": "2025-05-19T16:39:30.071546Z",
     "start_time": "2025-05-19T16:39:29.306215Z"
    }
   },
   "cell_type": "code",
   "source": "df_pyspark.describe().show()",
   "id": "fa21af69aac35eeb",
   "outputs": [
    {
     "name": "stderr",
     "output_type": "stream",
     "text": [
      "25/05/19 19:39:29 WARN SparkStringUtils: Truncated the string representation of a plan since it was too large. This behavior can be adjusted by setting 'spark.sql.debug.maxToStringFields'.\n"
     ]
    },
    {
     "name": "stdout",
     "output_type": "stream",
     "text": [
      "+-------+----------+-----------------+------+-------------------+------------------+------------------+-------------+--------------------+------------------+------------+------------------+--------------------+----------------+--------------------+--------------------+------------------+\n",
      "|summary|       _c0|              _c1|   _c2|                _c3|               _c4|               _c5|          _c6|                 _c7|               _c8|         _c9|              _c10|                _c11|            _c12|                _c13|                _c14|              _c15|\n",
      "+-------+----------+-----------------+------+-------------------+------------------+------------------+-------------+--------------------+------------------+------------+------------------+--------------------+----------------+--------------------+--------------------+------------------+\n",
      "|  count|      1001|             1001|  1001|               1001|              1001|              1001|         1001|                1001|              1001|        1001|              1001|                1001|            1001|                1001|                1001|              1001|\n",
      "|   mean|      NULL|           20.498|  NULL|             3.5501| 2.505500000000002|1.8197000000000014|         NULL|   84.13170000000002| 6.470099999999999|        NULL|             3.042|                NULL|            NULL|               5.438|                NULL| 69.60150000000003|\n",
      "| stddev|      NULL|2.308099504640848|  NULL|  1.468889930399016| 1.172422417187732|1.0751175692861632|         NULL|   9.399246296429354|1.2263767732593391|        NULL|2.0254230023228095|                NULL|            NULL|  2.8475014072453537|                NULL|16.888563921818257|\n",
      "|    min|     S1000|               17|Female|                0.0|               0.0|               0.0|           No|               100.0|              10.0|        Fair|                 0|            Bachelor|         Average|                   1|                  No|             100.0|\n",
      "|    max|student_id|              age|gender|study_hours_per_day|social_media_hours|     netflix_hours|part_time_job|attendance_percen...|       sleep_hours|diet_quality|exercise_frequency|parental_educatio...|internet_quality|mental_health_rating|extracurricular_p...|        exam_score|\n",
      "+-------+----------+-----------------+------+-------------------+------------------+------------------+-------------+--------------------+------------------+------------+------------------+--------------------+----------------+--------------------+--------------------+------------------+\n",
      "\n"
     ]
    }
   ],
   "execution_count": 13
  },
  {
   "metadata": {
    "ExecuteTime": {
     "end_time": "2025-05-19T16:39:30.098983Z",
     "start_time": "2025-05-19T16:39:30.095442Z"
    }
   },
   "cell_type": "code",
   "source": "# df_pyspark.withColumn('test', 2)",
   "id": "8b533af4f9fe1971",
   "outputs": [],
   "execution_count": 14
  },
  {
   "metadata": {
    "ExecuteTime": {
     "end_time": "2025-05-19T16:39:30.216512Z",
     "start_time": "2025-05-19T16:39:30.148824Z"
    }
   },
   "cell_type": "code",
   "source": "df_pyspark.drop('_c0').show()",
   "id": "c8834d4197208aeb",
   "outputs": [
    {
     "name": "stdout",
     "output_type": "stream",
     "text": [
      "+---+------+-------------------+------------------+-------------+-------------+--------------------+-----------+------------+------------------+--------------------+----------------+--------------------+--------------------+----------+\n",
      "|_c1|   _c2|                _c3|               _c4|          _c5|          _c6|                 _c7|        _c8|         _c9|              _c10|                _c11|            _c12|                _c13|                _c14|      _c15|\n",
      "+---+------+-------------------+------------------+-------------+-------------+--------------------+-----------+------------+------------------+--------------------+----------------+--------------------+--------------------+----------+\n",
      "|age|gender|study_hours_per_day|social_media_hours|netflix_hours|part_time_job|attendance_percen...|sleep_hours|diet_quality|exercise_frequency|parental_educatio...|internet_quality|mental_health_rating|extracurricular_p...|exam_score|\n",
      "| 23|Female|                0.0|               1.2|          1.1|           No|                85.0|        8.0|        Fair|                 6|              Master|         Average|                   8|                 Yes|      56.2|\n",
      "| 20|Female|                6.9|               2.8|          2.3|           No|                97.3|        4.6|        Good|                 6|         High School|         Average|                   8|                  No|     100.0|\n",
      "| 21|  Male|                1.4|               3.1|          1.3|           No|                94.8|        8.0|        Poor|                 1|         High School|            Poor|                   1|                  No|      34.3|\n",
      "| 23|Female|                1.0|               3.9|          1.0|           No|                71.0|        9.2|        Poor|                 4|              Master|            Good|                   1|                 Yes|      26.8|\n",
      "| 19|Female|                5.0|               4.4|          0.5|           No|                90.9|        4.9|        Fair|                 3|              Master|            Good|                   1|                  No|      66.4|\n",
      "| 24|  Male|                7.2|               1.3|          0.0|           No|                82.9|        7.4|        Fair|                 1|              Master|         Average|                   4|                  No|     100.0|\n",
      "| 21|Female|                5.6|               1.5|          1.4|          Yes|                85.8|        6.5|        Good|                 2|              Master|            Poor|                   4|                  No|      89.8|\n",
      "| 21|Female|                4.3|               1.0|          2.0|          Yes|                77.7|        4.6|        Fair|                 0|            Bachelor|         Average|                   8|                  No|      72.6|\n",
      "| 23|Female|                4.4|               2.2|          1.7|           No|               100.0|        7.1|        Good|                 3|            Bachelor|            Good|                   1|                  No|      78.9|\n",
      "| 18|Female|                4.8|               3.1|          1.3|           No|                95.4|        7.5|        Good|                 5|            Bachelor|            Good|                  10|                 Yes|     100.0|\n",
      "| 19|Female|                4.6|               3.7|          0.8|           No|                77.6|        5.8|        Fair|                 1|                None|            Good|                   3|                  No|      63.3|\n",
      "| 23|  Male|                3.9|               2.4|          2.5|           No|                71.7|        7.9|        Fair|                 2|            Bachelor|         Average|                   1|                  No|      74.4|\n",
      "| 19|Female|                3.7|               2.1|          0.4|          Yes|                81.1|        4.5|        Fair|                 1|            Bachelor|            Good|                   9|                  No|      76.9|\n",
      "| 19|Female|                3.4|               2.7|          2.7|           No|                89.3|        4.7|        Fair|                 4|            Bachelor|            Good|                  10|                  No|      75.8|\n",
      "| 24|  Male|                2.4|               1.5|          0.7|           No|                87.4|        6.7|        Poor|                 6|            Bachelor|         Average|                   9|                  No|      78.9|\n",
      "| 21|  Male|                3.1|               5.0|          1.0|           No|                97.5|        6.5|        Good|                 6|         High School|         Average|                   7|                  No|      74.0|\n",
      "| 20|  Male|                1.0|               0.6|          0.2|           No|                92.9|        5.6|        Poor|                 3|         High School|            Poor|                   8|                 Yes|      55.2|\n",
      "| 24|Female|                3.4|               2.7|          1.2|           No|                94.7|        7.5|        Poor|                 0|         High School|         Average|                   1|                 Yes|      70.8|\n",
      "| 24| Other|                2.0|               4.9|          2.9|          Yes|                88.3|        7.1|        Good|                 2|         High School|            Good|                   5|                  No|      43.9|\n",
      "+---+------+-------------------+------------------+-------------+-------------+--------------------+-----------+------------+------------------+--------------------+----------------+--------------------+--------------------+----------+\n",
      "only showing top 20 rows\n",
      "\n"
     ]
    }
   ],
   "execution_count": 15
  },
  {
   "metadata": {
    "ExecuteTime": {
     "end_time": "2025-05-19T16:40:27.912453Z",
     "start_time": "2025-05-19T16:40:27.805325Z"
    }
   },
   "cell_type": "code",
   "source": [
    "names_dict = {'_c0': 'student_id', '_c1': 'age', '_c2': 'gender', '_c3': 'study_hours_per_day'}\n",
    "for col, name in names_dict.items():\n",
    "    df_pyspark.withColumnRenamed(col, name)\n",
    "\n",
    "df_pyspark.show()\n"
   ],
   "id": "bdd8368a199921d8",
   "outputs": [
    {
     "name": "stdout",
     "output_type": "stream",
     "text": [
      "<class 'dict'>\n",
      "+----------+---+------+-------------------+------------------+-------------+-------------+--------------------+-----------+------------+------------------+--------------------+----------------+--------------------+--------------------+----------+\n",
      "|       _c0|_c1|   _c2|                _c3|               _c4|          _c5|          _c6|                 _c7|        _c8|         _c9|              _c10|                _c11|            _c12|                _c13|                _c14|      _c15|\n",
      "+----------+---+------+-------------------+------------------+-------------+-------------+--------------------+-----------+------------+------------------+--------------------+----------------+--------------------+--------------------+----------+\n",
      "|student_id|age|gender|study_hours_per_day|social_media_hours|netflix_hours|part_time_job|attendance_percen...|sleep_hours|diet_quality|exercise_frequency|parental_educatio...|internet_quality|mental_health_rating|extracurricular_p...|exam_score|\n",
      "|     S1000| 23|Female|                0.0|               1.2|          1.1|           No|                85.0|        8.0|        Fair|                 6|              Master|         Average|                   8|                 Yes|      56.2|\n",
      "|     S1001| 20|Female|                6.9|               2.8|          2.3|           No|                97.3|        4.6|        Good|                 6|         High School|         Average|                   8|                  No|     100.0|\n",
      "|     S1002| 21|  Male|                1.4|               3.1|          1.3|           No|                94.8|        8.0|        Poor|                 1|         High School|            Poor|                   1|                  No|      34.3|\n",
      "|     S1003| 23|Female|                1.0|               3.9|          1.0|           No|                71.0|        9.2|        Poor|                 4|              Master|            Good|                   1|                 Yes|      26.8|\n",
      "|     S1004| 19|Female|                5.0|               4.4|          0.5|           No|                90.9|        4.9|        Fair|                 3|              Master|            Good|                   1|                  No|      66.4|\n",
      "|     S1005| 24|  Male|                7.2|               1.3|          0.0|           No|                82.9|        7.4|        Fair|                 1|              Master|         Average|                   4|                  No|     100.0|\n",
      "|     S1006| 21|Female|                5.6|               1.5|          1.4|          Yes|                85.8|        6.5|        Good|                 2|              Master|            Poor|                   4|                  No|      89.8|\n",
      "|     S1007| 21|Female|                4.3|               1.0|          2.0|          Yes|                77.7|        4.6|        Fair|                 0|            Bachelor|         Average|                   8|                  No|      72.6|\n",
      "|     S1008| 23|Female|                4.4|               2.2|          1.7|           No|               100.0|        7.1|        Good|                 3|            Bachelor|            Good|                   1|                  No|      78.9|\n",
      "|     S1009| 18|Female|                4.8|               3.1|          1.3|           No|                95.4|        7.5|        Good|                 5|            Bachelor|            Good|                  10|                 Yes|     100.0|\n",
      "|     S1010| 19|Female|                4.6|               3.7|          0.8|           No|                77.6|        5.8|        Fair|                 1|                None|            Good|                   3|                  No|      63.3|\n",
      "|     S1011| 23|  Male|                3.9|               2.4|          2.5|           No|                71.7|        7.9|        Fair|                 2|            Bachelor|         Average|                   1|                  No|      74.4|\n",
      "|     S1012| 19|Female|                3.7|               2.1|          0.4|          Yes|                81.1|        4.5|        Fair|                 1|            Bachelor|            Good|                   9|                  No|      76.9|\n",
      "|     S1013| 19|Female|                3.4|               2.7|          2.7|           No|                89.3|        4.7|        Fair|                 4|            Bachelor|            Good|                  10|                  No|      75.8|\n",
      "|     S1014| 24|  Male|                2.4|               1.5|          0.7|           No|                87.4|        6.7|        Poor|                 6|            Bachelor|         Average|                   9|                  No|      78.9|\n",
      "|     S1015| 21|  Male|                3.1|               5.0|          1.0|           No|                97.5|        6.5|        Good|                 6|         High School|         Average|                   7|                  No|      74.0|\n",
      "|     S1016| 20|  Male|                1.0|               0.6|          0.2|           No|                92.9|        5.6|        Poor|                 3|         High School|            Poor|                   8|                 Yes|      55.2|\n",
      "|     S1017| 24|Female|                3.4|               2.7|          1.2|           No|                94.7|        7.5|        Poor|                 0|         High School|         Average|                   1|                 Yes|      70.8|\n",
      "|     S1018| 24| Other|                2.0|               4.9|          2.9|          Yes|                88.3|        7.1|        Good|                 2|         High School|            Good|                   5|                  No|      43.9|\n",
      "+----------+---+------+-------------------+------------------+-------------+-------------+--------------------+-----------+------------+------------------+--------------------+----------------+--------------------+--------------------+----------+\n",
      "only showing top 20 rows\n",
      "\n"
     ]
    }
   ],
   "execution_count": 20
  },
  {
   "metadata": {
    "ExecuteTime": {
     "end_time": "2025-05-19T16:52:09.447955Z",
     "start_time": "2025-05-19T16:52:09.298389Z"
    }
   },
   "cell_type": "code",
   "source": "df_pyspark.na.drop().show()",
   "id": "ba821c9eb3a22db2",
   "outputs": [
    {
     "name": "stdout",
     "output_type": "stream",
     "text": [
      "+----------+---+------+-------------------+------------------+-------------+-------------+--------------------+-----------+------------+------------------+--------------------+----------------+--------------------+--------------------+----------+\n",
      "|       _c0|_c1|   _c2|                _c3|               _c4|          _c5|          _c6|                 _c7|        _c8|         _c9|              _c10|                _c11|            _c12|                _c13|                _c14|      _c15|\n",
      "+----------+---+------+-------------------+------------------+-------------+-------------+--------------------+-----------+------------+------------------+--------------------+----------------+--------------------+--------------------+----------+\n",
      "|student_id|age|gender|study_hours_per_day|social_media_hours|netflix_hours|part_time_job|attendance_percen...|sleep_hours|diet_quality|exercise_frequency|parental_educatio...|internet_quality|mental_health_rating|extracurricular_p...|exam_score|\n",
      "|     S1000| 23|Female|                0.0|               1.2|          1.1|           No|                85.0|        8.0|        Fair|                 6|              Master|         Average|                   8|                 Yes|      56.2|\n",
      "|     S1001| 20|Female|                6.9|               2.8|          2.3|           No|                97.3|        4.6|        Good|                 6|         High School|         Average|                   8|                  No|     100.0|\n",
      "|     S1002| 21|  Male|                1.4|               3.1|          1.3|           No|                94.8|        8.0|        Poor|                 1|         High School|            Poor|                   1|                  No|      34.3|\n",
      "|     S1003| 23|Female|                1.0|               3.9|          1.0|           No|                71.0|        9.2|        Poor|                 4|              Master|            Good|                   1|                 Yes|      26.8|\n",
      "|     S1004| 19|Female|                5.0|               4.4|          0.5|           No|                90.9|        4.9|        Fair|                 3|              Master|            Good|                   1|                  No|      66.4|\n",
      "|     S1005| 24|  Male|                7.2|               1.3|          0.0|           No|                82.9|        7.4|        Fair|                 1|              Master|         Average|                   4|                  No|     100.0|\n",
      "|     S1006| 21|Female|                5.6|               1.5|          1.4|          Yes|                85.8|        6.5|        Good|                 2|              Master|            Poor|                   4|                  No|      89.8|\n",
      "|     S1007| 21|Female|                4.3|               1.0|          2.0|          Yes|                77.7|        4.6|        Fair|                 0|            Bachelor|         Average|                   8|                  No|      72.6|\n",
      "|     S1008| 23|Female|                4.4|               2.2|          1.7|           No|               100.0|        7.1|        Good|                 3|            Bachelor|            Good|                   1|                  No|      78.9|\n",
      "|     S1009| 18|Female|                4.8|               3.1|          1.3|           No|                95.4|        7.5|        Good|                 5|            Bachelor|            Good|                  10|                 Yes|     100.0|\n",
      "|     S1010| 19|Female|                4.6|               3.7|          0.8|           No|                77.6|        5.8|        Fair|                 1|                None|            Good|                   3|                  No|      63.3|\n",
      "|     S1011| 23|  Male|                3.9|               2.4|          2.5|           No|                71.7|        7.9|        Fair|                 2|            Bachelor|         Average|                   1|                  No|      74.4|\n",
      "|     S1012| 19|Female|                3.7|               2.1|          0.4|          Yes|                81.1|        4.5|        Fair|                 1|            Bachelor|            Good|                   9|                  No|      76.9|\n",
      "|     S1013| 19|Female|                3.4|               2.7|          2.7|           No|                89.3|        4.7|        Fair|                 4|            Bachelor|            Good|                  10|                  No|      75.8|\n",
      "|     S1014| 24|  Male|                2.4|               1.5|          0.7|           No|                87.4|        6.7|        Poor|                 6|            Bachelor|         Average|                   9|                  No|      78.9|\n",
      "|     S1015| 21|  Male|                3.1|               5.0|          1.0|           No|                97.5|        6.5|        Good|                 6|         High School|         Average|                   7|                  No|      74.0|\n",
      "|     S1016| 20|  Male|                1.0|               0.6|          0.2|           No|                92.9|        5.6|        Poor|                 3|         High School|            Poor|                   8|                 Yes|      55.2|\n",
      "|     S1017| 24|Female|                3.4|               2.7|          1.2|           No|                94.7|        7.5|        Poor|                 0|         High School|         Average|                   1|                 Yes|      70.8|\n",
      "|     S1018| 24| Other|                2.0|               4.9|          2.9|          Yes|                88.3|        7.1|        Good|                 2|         High School|            Good|                   5|                  No|      43.9|\n",
      "+----------+---+------+-------------------+------------------+-------------+-------------+--------------------+-----------+------------+------------------+--------------------+----------------+--------------------+--------------------+----------+\n",
      "only showing top 20 rows\n",
      "\n"
     ]
    }
   ],
   "execution_count": 23
  },
  {
   "metadata": {
    "ExecuteTime": {
     "end_time": "2025-05-19T16:53:53.653548Z",
     "start_time": "2025-05-19T16:53:53.567689Z"
    }
   },
   "cell_type": "code",
   "source": "df_pyspark.na.drop(how='all').show()",
   "id": "2df819b7e414b859",
   "outputs": [
    {
     "name": "stdout",
     "output_type": "stream",
     "text": [
      "+----------+---+------+-------------------+------------------+-------------+-------------+--------------------+-----------+------------+------------------+--------------------+----------------+--------------------+--------------------+----------+\n",
      "|       _c0|_c1|   _c2|                _c3|               _c4|          _c5|          _c6|                 _c7|        _c8|         _c9|              _c10|                _c11|            _c12|                _c13|                _c14|      _c15|\n",
      "+----------+---+------+-------------------+------------------+-------------+-------------+--------------------+-----------+------------+------------------+--------------------+----------------+--------------------+--------------------+----------+\n",
      "|student_id|age|gender|study_hours_per_day|social_media_hours|netflix_hours|part_time_job|attendance_percen...|sleep_hours|diet_quality|exercise_frequency|parental_educatio...|internet_quality|mental_health_rating|extracurricular_p...|exam_score|\n",
      "|     S1000| 23|Female|                0.0|               1.2|          1.1|           No|                85.0|        8.0|        Fair|                 6|              Master|         Average|                   8|                 Yes|      56.2|\n",
      "|     S1001| 20|Female|                6.9|               2.8|          2.3|           No|                97.3|        4.6|        Good|                 6|         High School|         Average|                   8|                  No|     100.0|\n",
      "|     S1002| 21|  Male|                1.4|               3.1|          1.3|           No|                94.8|        8.0|        Poor|                 1|         High School|            Poor|                   1|                  No|      34.3|\n",
      "|     S1003| 23|Female|                1.0|               3.9|          1.0|           No|                71.0|        9.2|        Poor|                 4|              Master|            Good|                   1|                 Yes|      26.8|\n",
      "|     S1004| 19|Female|                5.0|               4.4|          0.5|           No|                90.9|        4.9|        Fair|                 3|              Master|            Good|                   1|                  No|      66.4|\n",
      "|     S1005| 24|  Male|                7.2|               1.3|          0.0|           No|                82.9|        7.4|        Fair|                 1|              Master|         Average|                   4|                  No|     100.0|\n",
      "|     S1006| 21|Female|                5.6|               1.5|          1.4|          Yes|                85.8|        6.5|        Good|                 2|              Master|            Poor|                   4|                  No|      89.8|\n",
      "|     S1007| 21|Female|                4.3|               1.0|          2.0|          Yes|                77.7|        4.6|        Fair|                 0|            Bachelor|         Average|                   8|                  No|      72.6|\n",
      "|     S1008| 23|Female|                4.4|               2.2|          1.7|           No|               100.0|        7.1|        Good|                 3|            Bachelor|            Good|                   1|                  No|      78.9|\n",
      "|     S1009| 18|Female|                4.8|               3.1|          1.3|           No|                95.4|        7.5|        Good|                 5|            Bachelor|            Good|                  10|                 Yes|     100.0|\n",
      "|     S1010| 19|Female|                4.6|               3.7|          0.8|           No|                77.6|        5.8|        Fair|                 1|                None|            Good|                   3|                  No|      63.3|\n",
      "|     S1011| 23|  Male|                3.9|               2.4|          2.5|           No|                71.7|        7.9|        Fair|                 2|            Bachelor|         Average|                   1|                  No|      74.4|\n",
      "|     S1012| 19|Female|                3.7|               2.1|          0.4|          Yes|                81.1|        4.5|        Fair|                 1|            Bachelor|            Good|                   9|                  No|      76.9|\n",
      "|     S1013| 19|Female|                3.4|               2.7|          2.7|           No|                89.3|        4.7|        Fair|                 4|            Bachelor|            Good|                  10|                  No|      75.8|\n",
      "|     S1014| 24|  Male|                2.4|               1.5|          0.7|           No|                87.4|        6.7|        Poor|                 6|            Bachelor|         Average|                   9|                  No|      78.9|\n",
      "|     S1015| 21|  Male|                3.1|               5.0|          1.0|           No|                97.5|        6.5|        Good|                 6|         High School|         Average|                   7|                  No|      74.0|\n",
      "|     S1016| 20|  Male|                1.0|               0.6|          0.2|           No|                92.9|        5.6|        Poor|                 3|         High School|            Poor|                   8|                 Yes|      55.2|\n",
      "|     S1017| 24|Female|                3.4|               2.7|          1.2|           No|                94.7|        7.5|        Poor|                 0|         High School|         Average|                   1|                 Yes|      70.8|\n",
      "|     S1018| 24| Other|                2.0|               4.9|          2.9|          Yes|                88.3|        7.1|        Good|                 2|         High School|            Good|                   5|                  No|      43.9|\n",
      "+----------+---+------+-------------------+------------------+-------------+-------------+--------------------+-----------+------------+------------------+--------------------+----------------+--------------------+--------------------+----------+\n",
      "only showing top 20 rows\n",
      "\n"
     ]
    }
   ],
   "execution_count": 26
  },
  {
   "metadata": {
    "ExecuteTime": {
     "end_time": "2025-05-19T16:55:16.782309Z",
     "start_time": "2025-05-19T16:55:16.644506Z"
    }
   },
   "cell_type": "code",
   "source": "df_pyspark.na.drop(how='all', thresh=2).show()",
   "id": "c382684aedac65f9",
   "outputs": [
    {
     "name": "stdout",
     "output_type": "stream",
     "text": [
      "+----------+---+------+-------------------+------------------+-------------+-------------+--------------------+-----------+------------+------------------+--------------------+----------------+--------------------+--------------------+----------+\n",
      "|       _c0|_c1|   _c2|                _c3|               _c4|          _c5|          _c6|                 _c7|        _c8|         _c9|              _c10|                _c11|            _c12|                _c13|                _c14|      _c15|\n",
      "+----------+---+------+-------------------+------------------+-------------+-------------+--------------------+-----------+------------+------------------+--------------------+----------------+--------------------+--------------------+----------+\n",
      "|student_id|age|gender|study_hours_per_day|social_media_hours|netflix_hours|part_time_job|attendance_percen...|sleep_hours|diet_quality|exercise_frequency|parental_educatio...|internet_quality|mental_health_rating|extracurricular_p...|exam_score|\n",
      "|     S1000| 23|Female|                0.0|               1.2|          1.1|           No|                85.0|        8.0|        Fair|                 6|              Master|         Average|                   8|                 Yes|      56.2|\n",
      "|     S1001| 20|Female|                6.9|               2.8|          2.3|           No|                97.3|        4.6|        Good|                 6|         High School|         Average|                   8|                  No|     100.0|\n",
      "|     S1002| 21|  Male|                1.4|               3.1|          1.3|           No|                94.8|        8.0|        Poor|                 1|         High School|            Poor|                   1|                  No|      34.3|\n",
      "|     S1003| 23|Female|                1.0|               3.9|          1.0|           No|                71.0|        9.2|        Poor|                 4|              Master|            Good|                   1|                 Yes|      26.8|\n",
      "|     S1004| 19|Female|                5.0|               4.4|          0.5|           No|                90.9|        4.9|        Fair|                 3|              Master|            Good|                   1|                  No|      66.4|\n",
      "|     S1005| 24|  Male|                7.2|               1.3|          0.0|           No|                82.9|        7.4|        Fair|                 1|              Master|         Average|                   4|                  No|     100.0|\n",
      "|     S1006| 21|Female|                5.6|               1.5|          1.4|          Yes|                85.8|        6.5|        Good|                 2|              Master|            Poor|                   4|                  No|      89.8|\n",
      "|     S1007| 21|Female|                4.3|               1.0|          2.0|          Yes|                77.7|        4.6|        Fair|                 0|            Bachelor|         Average|                   8|                  No|      72.6|\n",
      "|     S1008| 23|Female|                4.4|               2.2|          1.7|           No|               100.0|        7.1|        Good|                 3|            Bachelor|            Good|                   1|                  No|      78.9|\n",
      "|     S1009| 18|Female|                4.8|               3.1|          1.3|           No|                95.4|        7.5|        Good|                 5|            Bachelor|            Good|                  10|                 Yes|     100.0|\n",
      "|     S1010| 19|Female|                4.6|               3.7|          0.8|           No|                77.6|        5.8|        Fair|                 1|                None|            Good|                   3|                  No|      63.3|\n",
      "|     S1011| 23|  Male|                3.9|               2.4|          2.5|           No|                71.7|        7.9|        Fair|                 2|            Bachelor|         Average|                   1|                  No|      74.4|\n",
      "|     S1012| 19|Female|                3.7|               2.1|          0.4|          Yes|                81.1|        4.5|        Fair|                 1|            Bachelor|            Good|                   9|                  No|      76.9|\n",
      "|     S1013| 19|Female|                3.4|               2.7|          2.7|           No|                89.3|        4.7|        Fair|                 4|            Bachelor|            Good|                  10|                  No|      75.8|\n",
      "|     S1014| 24|  Male|                2.4|               1.5|          0.7|           No|                87.4|        6.7|        Poor|                 6|            Bachelor|         Average|                   9|                  No|      78.9|\n",
      "|     S1015| 21|  Male|                3.1|               5.0|          1.0|           No|                97.5|        6.5|        Good|                 6|         High School|         Average|                   7|                  No|      74.0|\n",
      "|     S1016| 20|  Male|                1.0|               0.6|          0.2|           No|                92.9|        5.6|        Poor|                 3|         High School|            Poor|                   8|                 Yes|      55.2|\n",
      "|     S1017| 24|Female|                3.4|               2.7|          1.2|           No|                94.7|        7.5|        Poor|                 0|         High School|         Average|                   1|                 Yes|      70.8|\n",
      "|     S1018| 24| Other|                2.0|               4.9|          2.9|          Yes|                88.3|        7.1|        Good|                 2|         High School|            Good|                   5|                  No|      43.9|\n",
      "+----------+---+------+-------------------+------------------+-------------+-------------+--------------------+-----------+------------+------------------+--------------------+----------------+--------------------+--------------------+----------+\n",
      "only showing top 20 rows\n",
      "\n"
     ]
    }
   ],
   "execution_count": 27
  },
  {
   "metadata": {
    "ExecuteTime": {
     "end_time": "2025-05-19T16:58:10.564796Z",
     "start_time": "2025-05-19T16:58:10.424907Z"
    }
   },
   "cell_type": "code",
   "source": "df_pyspark.na.drop(how='all', subset=['_c0']).show()",
   "id": "e9ea8106169b5f91",
   "outputs": [
    {
     "name": "stdout",
     "output_type": "stream",
     "text": [
      "+----------+---+------+-------------------+------------------+-------------+-------------+--------------------+-----------+------------+------------------+--------------------+----------------+--------------------+--------------------+----------+\n",
      "|       _c0|_c1|   _c2|                _c3|               _c4|          _c5|          _c6|                 _c7|        _c8|         _c9|              _c10|                _c11|            _c12|                _c13|                _c14|      _c15|\n",
      "+----------+---+------+-------------------+------------------+-------------+-------------+--------------------+-----------+------------+------------------+--------------------+----------------+--------------------+--------------------+----------+\n",
      "|student_id|age|gender|study_hours_per_day|social_media_hours|netflix_hours|part_time_job|attendance_percen...|sleep_hours|diet_quality|exercise_frequency|parental_educatio...|internet_quality|mental_health_rating|extracurricular_p...|exam_score|\n",
      "|     S1000| 23|Female|                0.0|               1.2|          1.1|           No|                85.0|        8.0|        Fair|                 6|              Master|         Average|                   8|                 Yes|      56.2|\n",
      "|     S1001| 20|Female|                6.9|               2.8|          2.3|           No|                97.3|        4.6|        Good|                 6|         High School|         Average|                   8|                  No|     100.0|\n",
      "|     S1002| 21|  Male|                1.4|               3.1|          1.3|           No|                94.8|        8.0|        Poor|                 1|         High School|            Poor|                   1|                  No|      34.3|\n",
      "|     S1003| 23|Female|                1.0|               3.9|          1.0|           No|                71.0|        9.2|        Poor|                 4|              Master|            Good|                   1|                 Yes|      26.8|\n",
      "|     S1004| 19|Female|                5.0|               4.4|          0.5|           No|                90.9|        4.9|        Fair|                 3|              Master|            Good|                   1|                  No|      66.4|\n",
      "|     S1005| 24|  Male|                7.2|               1.3|          0.0|           No|                82.9|        7.4|        Fair|                 1|              Master|         Average|                   4|                  No|     100.0|\n",
      "|     S1006| 21|Female|                5.6|               1.5|          1.4|          Yes|                85.8|        6.5|        Good|                 2|              Master|            Poor|                   4|                  No|      89.8|\n",
      "|     S1007| 21|Female|                4.3|               1.0|          2.0|          Yes|                77.7|        4.6|        Fair|                 0|            Bachelor|         Average|                   8|                  No|      72.6|\n",
      "|     S1008| 23|Female|                4.4|               2.2|          1.7|           No|               100.0|        7.1|        Good|                 3|            Bachelor|            Good|                   1|                  No|      78.9|\n",
      "|     S1009| 18|Female|                4.8|               3.1|          1.3|           No|                95.4|        7.5|        Good|                 5|            Bachelor|            Good|                  10|                 Yes|     100.0|\n",
      "|     S1010| 19|Female|                4.6|               3.7|          0.8|           No|                77.6|        5.8|        Fair|                 1|                None|            Good|                   3|                  No|      63.3|\n",
      "|     S1011| 23|  Male|                3.9|               2.4|          2.5|           No|                71.7|        7.9|        Fair|                 2|            Bachelor|         Average|                   1|                  No|      74.4|\n",
      "|     S1012| 19|Female|                3.7|               2.1|          0.4|          Yes|                81.1|        4.5|        Fair|                 1|            Bachelor|            Good|                   9|                  No|      76.9|\n",
      "|     S1013| 19|Female|                3.4|               2.7|          2.7|           No|                89.3|        4.7|        Fair|                 4|            Bachelor|            Good|                  10|                  No|      75.8|\n",
      "|     S1014| 24|  Male|                2.4|               1.5|          0.7|           No|                87.4|        6.7|        Poor|                 6|            Bachelor|         Average|                   9|                  No|      78.9|\n",
      "|     S1015| 21|  Male|                3.1|               5.0|          1.0|           No|                97.5|        6.5|        Good|                 6|         High School|         Average|                   7|                  No|      74.0|\n",
      "|     S1016| 20|  Male|                1.0|               0.6|          0.2|           No|                92.9|        5.6|        Poor|                 3|         High School|            Poor|                   8|                 Yes|      55.2|\n",
      "|     S1017| 24|Female|                3.4|               2.7|          1.2|           No|                94.7|        7.5|        Poor|                 0|         High School|         Average|                   1|                 Yes|      70.8|\n",
      "|     S1018| 24| Other|                2.0|               4.9|          2.9|          Yes|                88.3|        7.1|        Good|                 2|         High School|            Good|                   5|                  No|      43.9|\n",
      "+----------+---+------+-------------------+------------------+-------------+-------------+--------------------+-----------+------------+------------------+--------------------+----------------+--------------------+--------------------+----------+\n",
      "only showing top 20 rows\n",
      "\n"
     ]
    }
   ],
   "execution_count": 28
  }
 ],
 "metadata": {
  "kernelspec": {
   "display_name": "Python 3 (ipykernel)",
   "language": "python",
   "name": "python3"
  },
  "language_info": {
   "codemirror_mode": {
    "name": "ipython",
    "version": 3
   },
   "file_extension": ".py",
   "mimetype": "text/x-python",
   "name": "python",
   "nbconvert_exporter": "python",
   "pygments_lexer": "ipython3",
   "version": "3.9.6"
  }
 },
 "nbformat": 4,
 "nbformat_minor": 5
}
