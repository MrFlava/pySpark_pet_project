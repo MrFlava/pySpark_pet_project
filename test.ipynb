{
 "cells": [
  {
   "cell_type": "code",
   "id": "c1316274-3409-489d-ae93-4971394c56c9",
   "metadata": {
    "ExecuteTime": {
     "end_time": "2025-05-28T19:12:22.307683Z",
     "start_time": "2025-05-28T19:12:22.016252Z"
    }
   },
   "source": [
    "import pyspark"
   ],
   "outputs": [],
   "execution_count": 1
  },
  {
   "cell_type": "code",
   "id": "be151ac9-5ffd-408d-a899-a6535c0ff698",
   "metadata": {
    "ExecuteTime": {
     "end_time": "2025-05-28T19:12:23.281788Z",
     "start_time": "2025-05-28T19:12:22.383312Z"
    }
   },
   "source": [
    "import pandas as pd"
   ],
   "outputs": [],
   "execution_count": 2
  },
  {
   "cell_type": "code",
   "id": "ed526cd6-9423-4076-bdb6-d5b0f03aeebf",
   "metadata": {
    "ExecuteTime": {
     "end_time": "2025-05-28T19:12:23.543480Z",
     "start_time": "2025-05-28T19:12:23.483349Z"
    }
   },
   "source": [
    "pd.read_csv('student_habits_performance.csv')"
   ],
   "outputs": [
    {
     "data": {
      "text/plain": [
       "    student_id  age  gender  study_hours_per_day  social_media_hours  \\\n",
       "0        S1000   23  Female                  0.0                 1.2   \n",
       "1        S1001   20  Female                  6.9                 2.8   \n",
       "2        S1002   21    Male                  1.4                 3.1   \n",
       "3        S1003   23  Female                  1.0                 3.9   \n",
       "4        S1004   19  Female                  5.0                 4.4   \n",
       "..         ...  ...     ...                  ...                 ...   \n",
       "995      S1995   21  Female                  2.6                 0.5   \n",
       "996      S1996   17  Female                  2.9                 1.0   \n",
       "997      S1997   20    Male                  3.0                 2.6   \n",
       "998      S1998   24    Male                  5.4                 4.1   \n",
       "999      S1999   19  Female                  4.3                 2.9   \n",
       "\n",
       "     netflix_hours part_time_job  attendance_percentage  sleep_hours  \\\n",
       "0              1.1            No                   85.0          8.0   \n",
       "1              2.3            No                   97.3          4.6   \n",
       "2              1.3            No                   94.8          8.0   \n",
       "3              1.0            No                   71.0          9.2   \n",
       "4              0.5            No                   90.9          4.9   \n",
       "..             ...           ...                    ...          ...   \n",
       "995            1.6            No                   77.0          7.5   \n",
       "996            2.4           Yes                   86.0          6.8   \n",
       "997            1.3            No                   61.9          6.5   \n",
       "998            1.1           Yes                  100.0          7.6   \n",
       "999            1.9            No                   89.4          7.1   \n",
       "\n",
       "    diet_quality  exercise_frequency parental_education_level  \\\n",
       "0           Fair                   6                   Master   \n",
       "1           Good                   6              High School   \n",
       "2           Poor                   1              High School   \n",
       "3           Poor                   4                   Master   \n",
       "4           Fair                   3                   Master   \n",
       "..           ...                 ...                      ...   \n",
       "995         Fair                   2              High School   \n",
       "996         Poor                   1              High School   \n",
       "997         Good                   5                 Bachelor   \n",
       "998         Fair                   0                 Bachelor   \n",
       "999         Good                   2                 Bachelor   \n",
       "\n",
       "    internet_quality  mental_health_rating extracurricular_participation  \\\n",
       "0            Average                     8                           Yes   \n",
       "1            Average                     8                            No   \n",
       "2               Poor                     1                            No   \n",
       "3               Good                     1                           Yes   \n",
       "4               Good                     1                            No   \n",
       "..               ...                   ...                           ...   \n",
       "995             Good                     6                           Yes   \n",
       "996          Average                     6                           Yes   \n",
       "997             Good                     9                           Yes   \n",
       "998          Average                     1                            No   \n",
       "999          Average                     8                            No   \n",
       "\n",
       "     exam_score  \n",
       "0          56.2  \n",
       "1         100.0  \n",
       "2          34.3  \n",
       "3          26.8  \n",
       "4          66.4  \n",
       "..          ...  \n",
       "995        76.1  \n",
       "996        65.9  \n",
       "997        64.4  \n",
       "998        69.7  \n",
       "999        74.9  \n",
       "\n",
       "[1000 rows x 16 columns]"
      ],
      "text/html": [
       "<div>\n",
       "<style scoped>\n",
       "    .dataframe tbody tr th:only-of-type {\n",
       "        vertical-align: middle;\n",
       "    }\n",
       "\n",
       "    .dataframe tbody tr th {\n",
       "        vertical-align: top;\n",
       "    }\n",
       "\n",
       "    .dataframe thead th {\n",
       "        text-align: right;\n",
       "    }\n",
       "</style>\n",
       "<table border=\"1\" class=\"dataframe\">\n",
       "  <thead>\n",
       "    <tr style=\"text-align: right;\">\n",
       "      <th></th>\n",
       "      <th>student_id</th>\n",
       "      <th>age</th>\n",
       "      <th>gender</th>\n",
       "      <th>study_hours_per_day</th>\n",
       "      <th>social_media_hours</th>\n",
       "      <th>netflix_hours</th>\n",
       "      <th>part_time_job</th>\n",
       "      <th>attendance_percentage</th>\n",
       "      <th>sleep_hours</th>\n",
       "      <th>diet_quality</th>\n",
       "      <th>exercise_frequency</th>\n",
       "      <th>parental_education_level</th>\n",
       "      <th>internet_quality</th>\n",
       "      <th>mental_health_rating</th>\n",
       "      <th>extracurricular_participation</th>\n",
       "      <th>exam_score</th>\n",
       "    </tr>\n",
       "  </thead>\n",
       "  <tbody>\n",
       "    <tr>\n",
       "      <th>0</th>\n",
       "      <td>S1000</td>\n",
       "      <td>23</td>\n",
       "      <td>Female</td>\n",
       "      <td>0.0</td>\n",
       "      <td>1.2</td>\n",
       "      <td>1.1</td>\n",
       "      <td>No</td>\n",
       "      <td>85.0</td>\n",
       "      <td>8.0</td>\n",
       "      <td>Fair</td>\n",
       "      <td>6</td>\n",
       "      <td>Master</td>\n",
       "      <td>Average</td>\n",
       "      <td>8</td>\n",
       "      <td>Yes</td>\n",
       "      <td>56.2</td>\n",
       "    </tr>\n",
       "    <tr>\n",
       "      <th>1</th>\n",
       "      <td>S1001</td>\n",
       "      <td>20</td>\n",
       "      <td>Female</td>\n",
       "      <td>6.9</td>\n",
       "      <td>2.8</td>\n",
       "      <td>2.3</td>\n",
       "      <td>No</td>\n",
       "      <td>97.3</td>\n",
       "      <td>4.6</td>\n",
       "      <td>Good</td>\n",
       "      <td>6</td>\n",
       "      <td>High School</td>\n",
       "      <td>Average</td>\n",
       "      <td>8</td>\n",
       "      <td>No</td>\n",
       "      <td>100.0</td>\n",
       "    </tr>\n",
       "    <tr>\n",
       "      <th>2</th>\n",
       "      <td>S1002</td>\n",
       "      <td>21</td>\n",
       "      <td>Male</td>\n",
       "      <td>1.4</td>\n",
       "      <td>3.1</td>\n",
       "      <td>1.3</td>\n",
       "      <td>No</td>\n",
       "      <td>94.8</td>\n",
       "      <td>8.0</td>\n",
       "      <td>Poor</td>\n",
       "      <td>1</td>\n",
       "      <td>High School</td>\n",
       "      <td>Poor</td>\n",
       "      <td>1</td>\n",
       "      <td>No</td>\n",
       "      <td>34.3</td>\n",
       "    </tr>\n",
       "    <tr>\n",
       "      <th>3</th>\n",
       "      <td>S1003</td>\n",
       "      <td>23</td>\n",
       "      <td>Female</td>\n",
       "      <td>1.0</td>\n",
       "      <td>3.9</td>\n",
       "      <td>1.0</td>\n",
       "      <td>No</td>\n",
       "      <td>71.0</td>\n",
       "      <td>9.2</td>\n",
       "      <td>Poor</td>\n",
       "      <td>4</td>\n",
       "      <td>Master</td>\n",
       "      <td>Good</td>\n",
       "      <td>1</td>\n",
       "      <td>Yes</td>\n",
       "      <td>26.8</td>\n",
       "    </tr>\n",
       "    <tr>\n",
       "      <th>4</th>\n",
       "      <td>S1004</td>\n",
       "      <td>19</td>\n",
       "      <td>Female</td>\n",
       "      <td>5.0</td>\n",
       "      <td>4.4</td>\n",
       "      <td>0.5</td>\n",
       "      <td>No</td>\n",
       "      <td>90.9</td>\n",
       "      <td>4.9</td>\n",
       "      <td>Fair</td>\n",
       "      <td>3</td>\n",
       "      <td>Master</td>\n",
       "      <td>Good</td>\n",
       "      <td>1</td>\n",
       "      <td>No</td>\n",
       "      <td>66.4</td>\n",
       "    </tr>\n",
       "    <tr>\n",
       "      <th>...</th>\n",
       "      <td>...</td>\n",
       "      <td>...</td>\n",
       "      <td>...</td>\n",
       "      <td>...</td>\n",
       "      <td>...</td>\n",
       "      <td>...</td>\n",
       "      <td>...</td>\n",
       "      <td>...</td>\n",
       "      <td>...</td>\n",
       "      <td>...</td>\n",
       "      <td>...</td>\n",
       "      <td>...</td>\n",
       "      <td>...</td>\n",
       "      <td>...</td>\n",
       "      <td>...</td>\n",
       "      <td>...</td>\n",
       "    </tr>\n",
       "    <tr>\n",
       "      <th>995</th>\n",
       "      <td>S1995</td>\n",
       "      <td>21</td>\n",
       "      <td>Female</td>\n",
       "      <td>2.6</td>\n",
       "      <td>0.5</td>\n",
       "      <td>1.6</td>\n",
       "      <td>No</td>\n",
       "      <td>77.0</td>\n",
       "      <td>7.5</td>\n",
       "      <td>Fair</td>\n",
       "      <td>2</td>\n",
       "      <td>High School</td>\n",
       "      <td>Good</td>\n",
       "      <td>6</td>\n",
       "      <td>Yes</td>\n",
       "      <td>76.1</td>\n",
       "    </tr>\n",
       "    <tr>\n",
       "      <th>996</th>\n",
       "      <td>S1996</td>\n",
       "      <td>17</td>\n",
       "      <td>Female</td>\n",
       "      <td>2.9</td>\n",
       "      <td>1.0</td>\n",
       "      <td>2.4</td>\n",
       "      <td>Yes</td>\n",
       "      <td>86.0</td>\n",
       "      <td>6.8</td>\n",
       "      <td>Poor</td>\n",
       "      <td>1</td>\n",
       "      <td>High School</td>\n",
       "      <td>Average</td>\n",
       "      <td>6</td>\n",
       "      <td>Yes</td>\n",
       "      <td>65.9</td>\n",
       "    </tr>\n",
       "    <tr>\n",
       "      <th>997</th>\n",
       "      <td>S1997</td>\n",
       "      <td>20</td>\n",
       "      <td>Male</td>\n",
       "      <td>3.0</td>\n",
       "      <td>2.6</td>\n",
       "      <td>1.3</td>\n",
       "      <td>No</td>\n",
       "      <td>61.9</td>\n",
       "      <td>6.5</td>\n",
       "      <td>Good</td>\n",
       "      <td>5</td>\n",
       "      <td>Bachelor</td>\n",
       "      <td>Good</td>\n",
       "      <td>9</td>\n",
       "      <td>Yes</td>\n",
       "      <td>64.4</td>\n",
       "    </tr>\n",
       "    <tr>\n",
       "      <th>998</th>\n",
       "      <td>S1998</td>\n",
       "      <td>24</td>\n",
       "      <td>Male</td>\n",
       "      <td>5.4</td>\n",
       "      <td>4.1</td>\n",
       "      <td>1.1</td>\n",
       "      <td>Yes</td>\n",
       "      <td>100.0</td>\n",
       "      <td>7.6</td>\n",
       "      <td>Fair</td>\n",
       "      <td>0</td>\n",
       "      <td>Bachelor</td>\n",
       "      <td>Average</td>\n",
       "      <td>1</td>\n",
       "      <td>No</td>\n",
       "      <td>69.7</td>\n",
       "    </tr>\n",
       "    <tr>\n",
       "      <th>999</th>\n",
       "      <td>S1999</td>\n",
       "      <td>19</td>\n",
       "      <td>Female</td>\n",
       "      <td>4.3</td>\n",
       "      <td>2.9</td>\n",
       "      <td>1.9</td>\n",
       "      <td>No</td>\n",
       "      <td>89.4</td>\n",
       "      <td>7.1</td>\n",
       "      <td>Good</td>\n",
       "      <td>2</td>\n",
       "      <td>Bachelor</td>\n",
       "      <td>Average</td>\n",
       "      <td>8</td>\n",
       "      <td>No</td>\n",
       "      <td>74.9</td>\n",
       "    </tr>\n",
       "  </tbody>\n",
       "</table>\n",
       "<p>1000 rows × 16 columns</p>\n",
       "</div>"
      ]
     },
     "execution_count": 3,
     "metadata": {},
     "output_type": "execute_result"
    }
   ],
   "execution_count": 3
  },
  {
   "cell_type": "code",
   "id": "cd4f1b99c7ceb953",
   "metadata": {
    "ExecuteTime": {
     "end_time": "2025-05-28T19:12:28.462117Z",
     "start_time": "2025-05-28T19:12:23.829146Z"
    }
   },
   "source": [
    "spark = pyspark.sql.SparkSession.builder.appName('Habits').getOrCreate()"
   ],
   "outputs": [
    {
     "name": "stderr",
     "output_type": "stream",
     "text": [
      "25/05/28 22:12:25 WARN Utils: Your hostname, MacBook-Air-Vladyslav.local resolves to a loopback address: 127.0.0.1; using 172.20.10.6 instead (on interface en0)\n",
      "25/05/28 22:12:25 WARN Utils: Set SPARK_LOCAL_IP if you need to bind to another address\n",
      "Setting default log level to \"WARN\".\n",
      "To adjust logging level use sc.setLogLevel(newLevel). For SparkR, use setLogLevel(newLevel).\n",
      "25/05/28 22:12:26 WARN NativeCodeLoader: Unable to load native-hadoop library for your platform... using builtin-java classes where applicable\n"
     ]
    }
   ],
   "execution_count": 4
  },
  {
   "cell_type": "code",
   "id": "d1a46abab66a4b00",
   "metadata": {
    "ExecuteTime": {
     "end_time": "2025-05-28T19:12:30.589731Z",
     "start_time": "2025-05-28T19:12:29.354958Z"
    }
   },
   "source": [
    "spark"
   ],
   "outputs": [
    {
     "data": {
      "text/plain": [
       "<pyspark.sql.session.SparkSession at 0x107d32a00>"
      ],
      "text/html": [
       "\n",
       "            <div>\n",
       "                <p><b>SparkSession - in-memory</b></p>\n",
       "                \n",
       "        <div>\n",
       "            <p><b>SparkContext</b></p>\n",
       "\n",
       "            <p><a href=\"http://172.20.10.6:4040\">Spark UI</a></p>\n",
       "\n",
       "            <dl>\n",
       "              <dt>Version</dt>\n",
       "                <dd><code>v3.5.5</code></dd>\n",
       "              <dt>Master</dt>\n",
       "                <dd><code>local[*]</code></dd>\n",
       "              <dt>AppName</dt>\n",
       "                <dd><code>Habits</code></dd>\n",
       "            </dl>\n",
       "        </div>\n",
       "        \n",
       "            </div>\n",
       "        "
      ]
     },
     "execution_count": 5,
     "metadata": {},
     "output_type": "execute_result"
    }
   ],
   "execution_count": 5
  },
  {
   "cell_type": "code",
   "id": "bdf42c2087675956",
   "metadata": {
    "ExecuteTime": {
     "end_time": "2025-05-28T19:12:36.554646Z",
     "start_time": "2025-05-28T19:12:31.191964Z"
    }
   },
   "source": [
    "df_pyspark = spark.read.csv('student_habits_performance.csv')"
   ],
   "outputs": [],
   "execution_count": 6
  },
  {
   "cell_type": "code",
   "id": "a3b0c93307d9b307",
   "metadata": {
    "ExecuteTime": {
     "end_time": "2025-05-28T19:12:37.704759Z",
     "start_time": "2025-05-28T19:12:36.742725Z"
    }
   },
   "source": [
    "spark.read.option('header', 'true').csv('student_habits_performance.csv').show()"
   ],
   "outputs": [
    {
     "name": "stdout",
     "output_type": "stream",
     "text": [
      "+----------+---+------+-------------------+------------------+-------------+-------------+---------------------+-----------+------------+------------------+------------------------+----------------+--------------------+-----------------------------+----------+\n",
      "|student_id|age|gender|study_hours_per_day|social_media_hours|netflix_hours|part_time_job|attendance_percentage|sleep_hours|diet_quality|exercise_frequency|parental_education_level|internet_quality|mental_health_rating|extracurricular_participation|exam_score|\n",
      "+----------+---+------+-------------------+------------------+-------------+-------------+---------------------+-----------+------------+------------------+------------------------+----------------+--------------------+-----------------------------+----------+\n",
      "|     S1000| 23|Female|                0.0|               1.2|          1.1|           No|                 85.0|        8.0|        Fair|                 6|                  Master|         Average|                   8|                          Yes|      56.2|\n",
      "|     S1001| 20|Female|                6.9|               2.8|          2.3|           No|                 97.3|        4.6|        Good|                 6|             High School|         Average|                   8|                           No|     100.0|\n",
      "|     S1002| 21|  Male|                1.4|               3.1|          1.3|           No|                 94.8|        8.0|        Poor|                 1|             High School|            Poor|                   1|                           No|      34.3|\n",
      "|     S1003| 23|Female|                1.0|               3.9|          1.0|           No|                 71.0|        9.2|        Poor|                 4|                  Master|            Good|                   1|                          Yes|      26.8|\n",
      "|     S1004| 19|Female|                5.0|               4.4|          0.5|           No|                 90.9|        4.9|        Fair|                 3|                  Master|            Good|                   1|                           No|      66.4|\n",
      "|     S1005| 24|  Male|                7.2|               1.3|          0.0|           No|                 82.9|        7.4|        Fair|                 1|                  Master|         Average|                   4|                           No|     100.0|\n",
      "|     S1006| 21|Female|                5.6|               1.5|          1.4|          Yes|                 85.8|        6.5|        Good|                 2|                  Master|            Poor|                   4|                           No|      89.8|\n",
      "|     S1007| 21|Female|                4.3|               1.0|          2.0|          Yes|                 77.7|        4.6|        Fair|                 0|                Bachelor|         Average|                   8|                           No|      72.6|\n",
      "|     S1008| 23|Female|                4.4|               2.2|          1.7|           No|                100.0|        7.1|        Good|                 3|                Bachelor|            Good|                   1|                           No|      78.9|\n",
      "|     S1009| 18|Female|                4.8|               3.1|          1.3|           No|                 95.4|        7.5|        Good|                 5|                Bachelor|            Good|                  10|                          Yes|     100.0|\n",
      "|     S1010| 19|Female|                4.6|               3.7|          0.8|           No|                 77.6|        5.8|        Fair|                 1|                    None|            Good|                   3|                           No|      63.3|\n",
      "|     S1011| 23|  Male|                3.9|               2.4|          2.5|           No|                 71.7|        7.9|        Fair|                 2|                Bachelor|         Average|                   1|                           No|      74.4|\n",
      "|     S1012| 19|Female|                3.7|               2.1|          0.4|          Yes|                 81.1|        4.5|        Fair|                 1|                Bachelor|            Good|                   9|                           No|      76.9|\n",
      "|     S1013| 19|Female|                3.4|               2.7|          2.7|           No|                 89.3|        4.7|        Fair|                 4|                Bachelor|            Good|                  10|                           No|      75.8|\n",
      "|     S1014| 24|  Male|                2.4|               1.5|          0.7|           No|                 87.4|        6.7|        Poor|                 6|                Bachelor|         Average|                   9|                           No|      78.9|\n",
      "|     S1015| 21|  Male|                3.1|               5.0|          1.0|           No|                 97.5|        6.5|        Good|                 6|             High School|         Average|                   7|                           No|      74.0|\n",
      "|     S1016| 20|  Male|                1.0|               0.6|          0.2|           No|                 92.9|        5.6|        Poor|                 3|             High School|            Poor|                   8|                          Yes|      55.2|\n",
      "|     S1017| 24|Female|                3.4|               2.7|          1.2|           No|                 94.7|        7.5|        Poor|                 0|             High School|         Average|                   1|                          Yes|      70.8|\n",
      "|     S1018| 24| Other|                2.0|               4.9|          2.9|          Yes|                 88.3|        7.1|        Good|                 2|             High School|            Good|                   5|                           No|      43.9|\n",
      "|     S1019| 19|  Male|                1.8|               2.5|          2.4|           No|                 71.1|        7.5|        Fair|                 1|             High School|         Average|                   2|                           No|      45.3|\n",
      "+----------+---+------+-------------------+------------------+-------------+-------------+---------------------+-----------+------------+------------------+------------------------+----------------+--------------------+-----------------------------+----------+\n",
      "only showing top 20 rows\n",
      "\n"
     ]
    }
   ],
   "execution_count": 7
  },
  {
   "cell_type": "code",
   "id": "e76bf762-4367-4351-9783-262b79a6cb36",
   "metadata": {
    "ExecuteTime": {
     "end_time": "2025-05-28T19:12:37.786194Z",
     "start_time": "2025-05-28T19:12:37.777570Z"
    }
   },
   "source": [
    "type(df_pyspark)"
   ],
   "outputs": [
    {
     "data": {
      "text/plain": [
       "pyspark.sql.dataframe.DataFrame"
      ]
     },
     "execution_count": 8,
     "metadata": {},
     "output_type": "execute_result"
    }
   ],
   "execution_count": 8
  },
  {
   "cell_type": "code",
   "id": "4714e16d-0ced-4aa1-b761-bcc69bd821c3",
   "metadata": {
    "ExecuteTime": {
     "end_time": "2025-05-28T19:12:38.493825Z",
     "start_time": "2025-05-28T19:12:38.480424Z"
    }
   },
   "source": [
    "df_pyspark.printSchema()"
   ],
   "outputs": [
    {
     "name": "stdout",
     "output_type": "stream",
     "text": [
      "root\n",
      " |-- _c0: string (nullable = true)\n",
      " |-- _c1: string (nullable = true)\n",
      " |-- _c2: string (nullable = true)\n",
      " |-- _c3: string (nullable = true)\n",
      " |-- _c4: string (nullable = true)\n",
      " |-- _c5: string (nullable = true)\n",
      " |-- _c6: string (nullable = true)\n",
      " |-- _c7: string (nullable = true)\n",
      " |-- _c8: string (nullable = true)\n",
      " |-- _c9: string (nullable = true)\n",
      " |-- _c10: string (nullable = true)\n",
      " |-- _c11: string (nullable = true)\n",
      " |-- _c12: string (nullable = true)\n",
      " |-- _c13: string (nullable = true)\n",
      " |-- _c14: string (nullable = true)\n",
      " |-- _c15: string (nullable = true)\n",
      "\n"
     ]
    }
   ],
   "execution_count": 9
  },
  {
   "cell_type": "code",
   "id": "68bee55c-ee9b-45f1-a018-8a32cd75f71a",
   "metadata": {
    "ExecuteTime": {
     "end_time": "2025-05-28T19:12:39.089736Z",
     "start_time": "2025-05-28T19:12:39.067755Z"
    }
   },
   "source": "df_pyspark",
   "outputs": [
    {
     "data": {
      "text/plain": [
       "DataFrame[_c0: string, _c1: string, _c2: string, _c3: string, _c4: string, _c5: string, _c6: string, _c7: string, _c8: string, _c9: string, _c10: string, _c11: string, _c12: string, _c13: string, _c14: string, _c15: string]"
      ]
     },
     "execution_count": 10,
     "metadata": {},
     "output_type": "execute_result"
    }
   ],
   "execution_count": 10
  },
  {
   "metadata": {
    "ExecuteTime": {
     "end_time": "2025-05-28T19:12:39.520487Z",
     "start_time": "2025-05-28T19:12:39.282176Z"
    }
   },
   "cell_type": "code",
   "source": "df_pyspark.select(['_c0', '_c1']).show()",
   "id": "14b3c0f7041168d1",
   "outputs": [
    {
     "name": "stdout",
     "output_type": "stream",
     "text": [
      "+----------+---+\n",
      "|       _c0|_c1|\n",
      "+----------+---+\n",
      "|student_id|age|\n",
      "|     S1000| 23|\n",
      "|     S1001| 20|\n",
      "|     S1002| 21|\n",
      "|     S1003| 23|\n",
      "|     S1004| 19|\n",
      "|     S1005| 24|\n",
      "|     S1006| 21|\n",
      "|     S1007| 21|\n",
      "|     S1008| 23|\n",
      "|     S1009| 18|\n",
      "|     S1010| 19|\n",
      "|     S1011| 23|\n",
      "|     S1012| 19|\n",
      "|     S1013| 19|\n",
      "|     S1014| 24|\n",
      "|     S1015| 21|\n",
      "|     S1016| 20|\n",
      "|     S1017| 24|\n",
      "|     S1018| 24|\n",
      "+----------+---+\n",
      "only showing top 20 rows\n",
      "\n"
     ]
    }
   ],
   "execution_count": 11
  },
  {
   "metadata": {
    "ExecuteTime": {
     "end_time": "2025-05-28T19:12:39.573506Z",
     "start_time": "2025-05-28T19:12:39.565447Z"
    }
   },
   "cell_type": "code",
   "source": "df_pyspark.dtypes",
   "id": "26c8c959148ca02e",
   "outputs": [
    {
     "data": {
      "text/plain": [
       "[('_c0', 'string'),\n",
       " ('_c1', 'string'),\n",
       " ('_c2', 'string'),\n",
       " ('_c3', 'string'),\n",
       " ('_c4', 'string'),\n",
       " ('_c5', 'string'),\n",
       " ('_c6', 'string'),\n",
       " ('_c7', 'string'),\n",
       " ('_c8', 'string'),\n",
       " ('_c9', 'string'),\n",
       " ('_c10', 'string'),\n",
       " ('_c11', 'string'),\n",
       " ('_c12', 'string'),\n",
       " ('_c13', 'string'),\n",
       " ('_c14', 'string'),\n",
       " ('_c15', 'string')]"
      ]
     },
     "execution_count": 12,
     "metadata": {},
     "output_type": "execute_result"
    }
   ],
   "execution_count": 12
  },
  {
   "metadata": {
    "ExecuteTime": {
     "end_time": "2025-05-28T19:12:42.263778Z",
     "start_time": "2025-05-28T19:12:39.728647Z"
    }
   },
   "cell_type": "code",
   "source": "df_pyspark.describe().show()",
   "id": "fa21af69aac35eeb",
   "outputs": [
    {
     "name": "stderr",
     "output_type": "stream",
     "text": [
      "25/05/28 22:12:40 WARN SparkStringUtils: Truncated the string representation of a plan since it was too large. This behavior can be adjusted by setting 'spark.sql.debug.maxToStringFields'.\n",
      "[Stage 6:>                                                          (0 + 1) / 1]\r"
     ]
    },
    {
     "name": "stdout",
     "output_type": "stream",
     "text": [
      "+-------+----------+-----------------+------+-------------------+------------------+------------------+-------------+--------------------+------------------+------------+------------------+--------------------+----------------+--------------------+--------------------+------------------+\n",
      "|summary|       _c0|              _c1|   _c2|                _c3|               _c4|               _c5|          _c6|                 _c7|               _c8|         _c9|              _c10|                _c11|            _c12|                _c13|                _c14|              _c15|\n",
      "+-------+----------+-----------------+------+-------------------+------------------+------------------+-------------+--------------------+------------------+------------+------------------+--------------------+----------------+--------------------+--------------------+------------------+\n",
      "|  count|      1001|             1001|  1001|               1001|              1001|              1001|         1001|                1001|              1001|        1001|              1001|                1001|            1001|                1001|                1001|              1001|\n",
      "|   mean|      NULL|           20.498|  NULL|             3.5501| 2.505500000000002|1.8197000000000014|         NULL|   84.13170000000002| 6.470099999999999|        NULL|             3.042|                NULL|            NULL|               5.438|                NULL| 69.60150000000003|\n",
      "| stddev|      NULL|2.308099504640848|  NULL|  1.468889930399016| 1.172422417187732|1.0751175692861632|         NULL|   9.399246296429354|1.2263767732593391|        NULL|2.0254230023228095|                NULL|            NULL|  2.8475014072453537|                NULL|16.888563921818257|\n",
      "|    min|     S1000|               17|Female|                0.0|               0.0|               0.0|           No|               100.0|              10.0|        Fair|                 0|            Bachelor|         Average|                   1|                  No|             100.0|\n",
      "|    max|student_id|              age|gender|study_hours_per_day|social_media_hours|     netflix_hours|part_time_job|attendance_percen...|       sleep_hours|diet_quality|exercise_frequency|parental_educatio...|internet_quality|mental_health_rating|extracurricular_p...|        exam_score|\n",
      "+-------+----------+-----------------+------+-------------------+------------------+------------------+-------------+--------------------+------------------+------------+------------------+--------------------+----------------+--------------------+--------------------+------------------+\n",
      "\n"
     ]
    },
    {
     "name": "stderr",
     "output_type": "stream",
     "text": [
      "                                                                                \r"
     ]
    }
   ],
   "execution_count": 13
  },
  {
   "metadata": {
    "ExecuteTime": {
     "end_time": "2025-05-28T19:12:42.388343Z",
     "start_time": "2025-05-28T19:12:42.384778Z"
    }
   },
   "cell_type": "code",
   "source": "# df_pyspark.withColumn('test', 2)",
   "id": "8b533af4f9fe1971",
   "outputs": [],
   "execution_count": 14
  },
  {
   "metadata": {
    "ExecuteTime": {
     "end_time": "2025-05-28T19:12:42.907296Z",
     "start_time": "2025-05-28T19:12:42.572714Z"
    }
   },
   "cell_type": "code",
   "source": "df_pyspark.drop('_c0').show()",
   "id": "c8834d4197208aeb",
   "outputs": [
    {
     "name": "stdout",
     "output_type": "stream",
     "text": [
      "+---+------+-------------------+------------------+-------------+-------------+--------------------+-----------+------------+------------------+--------------------+----------------+--------------------+--------------------+----------+\n",
      "|_c1|   _c2|                _c3|               _c4|          _c5|          _c6|                 _c7|        _c8|         _c9|              _c10|                _c11|            _c12|                _c13|                _c14|      _c15|\n",
      "+---+------+-------------------+------------------+-------------+-------------+--------------------+-----------+------------+------------------+--------------------+----------------+--------------------+--------------------+----------+\n",
      "|age|gender|study_hours_per_day|social_media_hours|netflix_hours|part_time_job|attendance_percen...|sleep_hours|diet_quality|exercise_frequency|parental_educatio...|internet_quality|mental_health_rating|extracurricular_p...|exam_score|\n",
      "| 23|Female|                0.0|               1.2|          1.1|           No|                85.0|        8.0|        Fair|                 6|              Master|         Average|                   8|                 Yes|      56.2|\n",
      "| 20|Female|                6.9|               2.8|          2.3|           No|                97.3|        4.6|        Good|                 6|         High School|         Average|                   8|                  No|     100.0|\n",
      "| 21|  Male|                1.4|               3.1|          1.3|           No|                94.8|        8.0|        Poor|                 1|         High School|            Poor|                   1|                  No|      34.3|\n",
      "| 23|Female|                1.0|               3.9|          1.0|           No|                71.0|        9.2|        Poor|                 4|              Master|            Good|                   1|                 Yes|      26.8|\n",
      "| 19|Female|                5.0|               4.4|          0.5|           No|                90.9|        4.9|        Fair|                 3|              Master|            Good|                   1|                  No|      66.4|\n",
      "| 24|  Male|                7.2|               1.3|          0.0|           No|                82.9|        7.4|        Fair|                 1|              Master|         Average|                   4|                  No|     100.0|\n",
      "| 21|Female|                5.6|               1.5|          1.4|          Yes|                85.8|        6.5|        Good|                 2|              Master|            Poor|                   4|                  No|      89.8|\n",
      "| 21|Female|                4.3|               1.0|          2.0|          Yes|                77.7|        4.6|        Fair|                 0|            Bachelor|         Average|                   8|                  No|      72.6|\n",
      "| 23|Female|                4.4|               2.2|          1.7|           No|               100.0|        7.1|        Good|                 3|            Bachelor|            Good|                   1|                  No|      78.9|\n",
      "| 18|Female|                4.8|               3.1|          1.3|           No|                95.4|        7.5|        Good|                 5|            Bachelor|            Good|                  10|                 Yes|     100.0|\n",
      "| 19|Female|                4.6|               3.7|          0.8|           No|                77.6|        5.8|        Fair|                 1|                None|            Good|                   3|                  No|      63.3|\n",
      "| 23|  Male|                3.9|               2.4|          2.5|           No|                71.7|        7.9|        Fair|                 2|            Bachelor|         Average|                   1|                  No|      74.4|\n",
      "| 19|Female|                3.7|               2.1|          0.4|          Yes|                81.1|        4.5|        Fair|                 1|            Bachelor|            Good|                   9|                  No|      76.9|\n",
      "| 19|Female|                3.4|               2.7|          2.7|           No|                89.3|        4.7|        Fair|                 4|            Bachelor|            Good|                  10|                  No|      75.8|\n",
      "| 24|  Male|                2.4|               1.5|          0.7|           No|                87.4|        6.7|        Poor|                 6|            Bachelor|         Average|                   9|                  No|      78.9|\n",
      "| 21|  Male|                3.1|               5.0|          1.0|           No|                97.5|        6.5|        Good|                 6|         High School|         Average|                   7|                  No|      74.0|\n",
      "| 20|  Male|                1.0|               0.6|          0.2|           No|                92.9|        5.6|        Poor|                 3|         High School|            Poor|                   8|                 Yes|      55.2|\n",
      "| 24|Female|                3.4|               2.7|          1.2|           No|                94.7|        7.5|        Poor|                 0|         High School|         Average|                   1|                 Yes|      70.8|\n",
      "| 24| Other|                2.0|               4.9|          2.9|          Yes|                88.3|        7.1|        Good|                 2|         High School|            Good|                   5|                  No|      43.9|\n",
      "+---+------+-------------------+------------------+-------------+-------------+--------------------+-----------+------------+------------------+--------------------+----------------+--------------------+--------------------+----------+\n",
      "only showing top 20 rows\n",
      "\n"
     ]
    }
   ],
   "execution_count": 15
  },
  {
   "metadata": {
    "ExecuteTime": {
     "end_time": "2025-05-28T19:12:43.372823Z",
     "start_time": "2025-05-28T19:12:43.087019Z"
    }
   },
   "cell_type": "code",
   "source": [
    "names_dict = {'_c0': 'student_id', '_c1': 'age', '_c2': 'gender', '_c3': 'study_hours_per_day'}\n",
    "for col, name in names_dict.items():\n",
    "    df_pyspark.withColumnRenamed(col, name)\n",
    "\n",
    "df_pyspark.show()\n"
   ],
   "id": "bdd8368a199921d8",
   "outputs": [
    {
     "name": "stdout",
     "output_type": "stream",
     "text": [
      "+----------+---+------+-------------------+------------------+-------------+-------------+--------------------+-----------+------------+------------------+--------------------+----------------+--------------------+--------------------+----------+\n",
      "|       _c0|_c1|   _c2|                _c3|               _c4|          _c5|          _c6|                 _c7|        _c8|         _c9|              _c10|                _c11|            _c12|                _c13|                _c14|      _c15|\n",
      "+----------+---+------+-------------------+------------------+-------------+-------------+--------------------+-----------+------------+------------------+--------------------+----------------+--------------------+--------------------+----------+\n",
      "|student_id|age|gender|study_hours_per_day|social_media_hours|netflix_hours|part_time_job|attendance_percen...|sleep_hours|diet_quality|exercise_frequency|parental_educatio...|internet_quality|mental_health_rating|extracurricular_p...|exam_score|\n",
      "|     S1000| 23|Female|                0.0|               1.2|          1.1|           No|                85.0|        8.0|        Fair|                 6|              Master|         Average|                   8|                 Yes|      56.2|\n",
      "|     S1001| 20|Female|                6.9|               2.8|          2.3|           No|                97.3|        4.6|        Good|                 6|         High School|         Average|                   8|                  No|     100.0|\n",
      "|     S1002| 21|  Male|                1.4|               3.1|          1.3|           No|                94.8|        8.0|        Poor|                 1|         High School|            Poor|                   1|                  No|      34.3|\n",
      "|     S1003| 23|Female|                1.0|               3.9|          1.0|           No|                71.0|        9.2|        Poor|                 4|              Master|            Good|                   1|                 Yes|      26.8|\n",
      "|     S1004| 19|Female|                5.0|               4.4|          0.5|           No|                90.9|        4.9|        Fair|                 3|              Master|            Good|                   1|                  No|      66.4|\n",
      "|     S1005| 24|  Male|                7.2|               1.3|          0.0|           No|                82.9|        7.4|        Fair|                 1|              Master|         Average|                   4|                  No|     100.0|\n",
      "|     S1006| 21|Female|                5.6|               1.5|          1.4|          Yes|                85.8|        6.5|        Good|                 2|              Master|            Poor|                   4|                  No|      89.8|\n",
      "|     S1007| 21|Female|                4.3|               1.0|          2.0|          Yes|                77.7|        4.6|        Fair|                 0|            Bachelor|         Average|                   8|                  No|      72.6|\n",
      "|     S1008| 23|Female|                4.4|               2.2|          1.7|           No|               100.0|        7.1|        Good|                 3|            Bachelor|            Good|                   1|                  No|      78.9|\n",
      "|     S1009| 18|Female|                4.8|               3.1|          1.3|           No|                95.4|        7.5|        Good|                 5|            Bachelor|            Good|                  10|                 Yes|     100.0|\n",
      "|     S1010| 19|Female|                4.6|               3.7|          0.8|           No|                77.6|        5.8|        Fair|                 1|                None|            Good|                   3|                  No|      63.3|\n",
      "|     S1011| 23|  Male|                3.9|               2.4|          2.5|           No|                71.7|        7.9|        Fair|                 2|            Bachelor|         Average|                   1|                  No|      74.4|\n",
      "|     S1012| 19|Female|                3.7|               2.1|          0.4|          Yes|                81.1|        4.5|        Fair|                 1|            Bachelor|            Good|                   9|                  No|      76.9|\n",
      "|     S1013| 19|Female|                3.4|               2.7|          2.7|           No|                89.3|        4.7|        Fair|                 4|            Bachelor|            Good|                  10|                  No|      75.8|\n",
      "|     S1014| 24|  Male|                2.4|               1.5|          0.7|           No|                87.4|        6.7|        Poor|                 6|            Bachelor|         Average|                   9|                  No|      78.9|\n",
      "|     S1015| 21|  Male|                3.1|               5.0|          1.0|           No|                97.5|        6.5|        Good|                 6|         High School|         Average|                   7|                  No|      74.0|\n",
      "|     S1016| 20|  Male|                1.0|               0.6|          0.2|           No|                92.9|        5.6|        Poor|                 3|         High School|            Poor|                   8|                 Yes|      55.2|\n",
      "|     S1017| 24|Female|                3.4|               2.7|          1.2|           No|                94.7|        7.5|        Poor|                 0|         High School|         Average|                   1|                 Yes|      70.8|\n",
      "|     S1018| 24| Other|                2.0|               4.9|          2.9|          Yes|                88.3|        7.1|        Good|                 2|         High School|            Good|                   5|                  No|      43.9|\n",
      "+----------+---+------+-------------------+------------------+-------------+-------------+--------------------+-----------+------------+------------------+--------------------+----------------+--------------------+--------------------+----------+\n",
      "only showing top 20 rows\n",
      "\n"
     ]
    }
   ],
   "execution_count": 16
  },
  {
   "metadata": {
    "ExecuteTime": {
     "end_time": "2025-05-28T19:12:43.659408Z",
     "start_time": "2025-05-28T19:12:43.455792Z"
    }
   },
   "cell_type": "code",
   "source": "df_pyspark.na.drop().show()",
   "id": "ba821c9eb3a22db2",
   "outputs": [
    {
     "name": "stdout",
     "output_type": "stream",
     "text": [
      "+----------+---+------+-------------------+------------------+-------------+-------------+--------------------+-----------+------------+------------------+--------------------+----------------+--------------------+--------------------+----------+\n",
      "|       _c0|_c1|   _c2|                _c3|               _c4|          _c5|          _c6|                 _c7|        _c8|         _c9|              _c10|                _c11|            _c12|                _c13|                _c14|      _c15|\n",
      "+----------+---+------+-------------------+------------------+-------------+-------------+--------------------+-----------+------------+------------------+--------------------+----------------+--------------------+--------------------+----------+\n",
      "|student_id|age|gender|study_hours_per_day|social_media_hours|netflix_hours|part_time_job|attendance_percen...|sleep_hours|diet_quality|exercise_frequency|parental_educatio...|internet_quality|mental_health_rating|extracurricular_p...|exam_score|\n",
      "|     S1000| 23|Female|                0.0|               1.2|          1.1|           No|                85.0|        8.0|        Fair|                 6|              Master|         Average|                   8|                 Yes|      56.2|\n",
      "|     S1001| 20|Female|                6.9|               2.8|          2.3|           No|                97.3|        4.6|        Good|                 6|         High School|         Average|                   8|                  No|     100.0|\n",
      "|     S1002| 21|  Male|                1.4|               3.1|          1.3|           No|                94.8|        8.0|        Poor|                 1|         High School|            Poor|                   1|                  No|      34.3|\n",
      "|     S1003| 23|Female|                1.0|               3.9|          1.0|           No|                71.0|        9.2|        Poor|                 4|              Master|            Good|                   1|                 Yes|      26.8|\n",
      "|     S1004| 19|Female|                5.0|               4.4|          0.5|           No|                90.9|        4.9|        Fair|                 3|              Master|            Good|                   1|                  No|      66.4|\n",
      "|     S1005| 24|  Male|                7.2|               1.3|          0.0|           No|                82.9|        7.4|        Fair|                 1|              Master|         Average|                   4|                  No|     100.0|\n",
      "|     S1006| 21|Female|                5.6|               1.5|          1.4|          Yes|                85.8|        6.5|        Good|                 2|              Master|            Poor|                   4|                  No|      89.8|\n",
      "|     S1007| 21|Female|                4.3|               1.0|          2.0|          Yes|                77.7|        4.6|        Fair|                 0|            Bachelor|         Average|                   8|                  No|      72.6|\n",
      "|     S1008| 23|Female|                4.4|               2.2|          1.7|           No|               100.0|        7.1|        Good|                 3|            Bachelor|            Good|                   1|                  No|      78.9|\n",
      "|     S1009| 18|Female|                4.8|               3.1|          1.3|           No|                95.4|        7.5|        Good|                 5|            Bachelor|            Good|                  10|                 Yes|     100.0|\n",
      "|     S1010| 19|Female|                4.6|               3.7|          0.8|           No|                77.6|        5.8|        Fair|                 1|                None|            Good|                   3|                  No|      63.3|\n",
      "|     S1011| 23|  Male|                3.9|               2.4|          2.5|           No|                71.7|        7.9|        Fair|                 2|            Bachelor|         Average|                   1|                  No|      74.4|\n",
      "|     S1012| 19|Female|                3.7|               2.1|          0.4|          Yes|                81.1|        4.5|        Fair|                 1|            Bachelor|            Good|                   9|                  No|      76.9|\n",
      "|     S1013| 19|Female|                3.4|               2.7|          2.7|           No|                89.3|        4.7|        Fair|                 4|            Bachelor|            Good|                  10|                  No|      75.8|\n",
      "|     S1014| 24|  Male|                2.4|               1.5|          0.7|           No|                87.4|        6.7|        Poor|                 6|            Bachelor|         Average|                   9|                  No|      78.9|\n",
      "|     S1015| 21|  Male|                3.1|               5.0|          1.0|           No|                97.5|        6.5|        Good|                 6|         High School|         Average|                   7|                  No|      74.0|\n",
      "|     S1016| 20|  Male|                1.0|               0.6|          0.2|           No|                92.9|        5.6|        Poor|                 3|         High School|            Poor|                   8|                 Yes|      55.2|\n",
      "|     S1017| 24|Female|                3.4|               2.7|          1.2|           No|                94.7|        7.5|        Poor|                 0|         High School|         Average|                   1|                 Yes|      70.8|\n",
      "|     S1018| 24| Other|                2.0|               4.9|          2.9|          Yes|                88.3|        7.1|        Good|                 2|         High School|            Good|                   5|                  No|      43.9|\n",
      "+----------+---+------+-------------------+------------------+-------------+-------------+--------------------+-----------+------------+------------------+--------------------+----------------+--------------------+--------------------+----------+\n",
      "only showing top 20 rows\n",
      "\n"
     ]
    }
   ],
   "execution_count": 17
  },
  {
   "metadata": {
    "ExecuteTime": {
     "end_time": "2025-05-28T19:12:43.908127Z",
     "start_time": "2025-05-28T19:12:43.800578Z"
    }
   },
   "cell_type": "code",
   "source": "df_pyspark.na.drop(how='all').show()",
   "id": "2df819b7e414b859",
   "outputs": [
    {
     "name": "stdout",
     "output_type": "stream",
     "text": [
      "+----------+---+------+-------------------+------------------+-------------+-------------+--------------------+-----------+------------+------------------+--------------------+----------------+--------------------+--------------------+----------+\n",
      "|       _c0|_c1|   _c2|                _c3|               _c4|          _c5|          _c6|                 _c7|        _c8|         _c9|              _c10|                _c11|            _c12|                _c13|                _c14|      _c15|\n",
      "+----------+---+------+-------------------+------------------+-------------+-------------+--------------------+-----------+------------+------------------+--------------------+----------------+--------------------+--------------------+----------+\n",
      "|student_id|age|gender|study_hours_per_day|social_media_hours|netflix_hours|part_time_job|attendance_percen...|sleep_hours|diet_quality|exercise_frequency|parental_educatio...|internet_quality|mental_health_rating|extracurricular_p...|exam_score|\n",
      "|     S1000| 23|Female|                0.0|               1.2|          1.1|           No|                85.0|        8.0|        Fair|                 6|              Master|         Average|                   8|                 Yes|      56.2|\n",
      "|     S1001| 20|Female|                6.9|               2.8|          2.3|           No|                97.3|        4.6|        Good|                 6|         High School|         Average|                   8|                  No|     100.0|\n",
      "|     S1002| 21|  Male|                1.4|               3.1|          1.3|           No|                94.8|        8.0|        Poor|                 1|         High School|            Poor|                   1|                  No|      34.3|\n",
      "|     S1003| 23|Female|                1.0|               3.9|          1.0|           No|                71.0|        9.2|        Poor|                 4|              Master|            Good|                   1|                 Yes|      26.8|\n",
      "|     S1004| 19|Female|                5.0|               4.4|          0.5|           No|                90.9|        4.9|        Fair|                 3|              Master|            Good|                   1|                  No|      66.4|\n",
      "|     S1005| 24|  Male|                7.2|               1.3|          0.0|           No|                82.9|        7.4|        Fair|                 1|              Master|         Average|                   4|                  No|     100.0|\n",
      "|     S1006| 21|Female|                5.6|               1.5|          1.4|          Yes|                85.8|        6.5|        Good|                 2|              Master|            Poor|                   4|                  No|      89.8|\n",
      "|     S1007| 21|Female|                4.3|               1.0|          2.0|          Yes|                77.7|        4.6|        Fair|                 0|            Bachelor|         Average|                   8|                  No|      72.6|\n",
      "|     S1008| 23|Female|                4.4|               2.2|          1.7|           No|               100.0|        7.1|        Good|                 3|            Bachelor|            Good|                   1|                  No|      78.9|\n",
      "|     S1009| 18|Female|                4.8|               3.1|          1.3|           No|                95.4|        7.5|        Good|                 5|            Bachelor|            Good|                  10|                 Yes|     100.0|\n",
      "|     S1010| 19|Female|                4.6|               3.7|          0.8|           No|                77.6|        5.8|        Fair|                 1|                None|            Good|                   3|                  No|      63.3|\n",
      "|     S1011| 23|  Male|                3.9|               2.4|          2.5|           No|                71.7|        7.9|        Fair|                 2|            Bachelor|         Average|                   1|                  No|      74.4|\n",
      "|     S1012| 19|Female|                3.7|               2.1|          0.4|          Yes|                81.1|        4.5|        Fair|                 1|            Bachelor|            Good|                   9|                  No|      76.9|\n",
      "|     S1013| 19|Female|                3.4|               2.7|          2.7|           No|                89.3|        4.7|        Fair|                 4|            Bachelor|            Good|                  10|                  No|      75.8|\n",
      "|     S1014| 24|  Male|                2.4|               1.5|          0.7|           No|                87.4|        6.7|        Poor|                 6|            Bachelor|         Average|                   9|                  No|      78.9|\n",
      "|     S1015| 21|  Male|                3.1|               5.0|          1.0|           No|                97.5|        6.5|        Good|                 6|         High School|         Average|                   7|                  No|      74.0|\n",
      "|     S1016| 20|  Male|                1.0|               0.6|          0.2|           No|                92.9|        5.6|        Poor|                 3|         High School|            Poor|                   8|                 Yes|      55.2|\n",
      "|     S1017| 24|Female|                3.4|               2.7|          1.2|           No|                94.7|        7.5|        Poor|                 0|         High School|         Average|                   1|                 Yes|      70.8|\n",
      "|     S1018| 24| Other|                2.0|               4.9|          2.9|          Yes|                88.3|        7.1|        Good|                 2|         High School|            Good|                   5|                  No|      43.9|\n",
      "+----------+---+------+-------------------+------------------+-------------+-------------+--------------------+-----------+------------+------------------+--------------------+----------------+--------------------+--------------------+----------+\n",
      "only showing top 20 rows\n",
      "\n"
     ]
    }
   ],
   "execution_count": 18
  },
  {
   "metadata": {
    "ExecuteTime": {
     "end_time": "2025-05-28T19:12:44.148086Z",
     "start_time": "2025-05-28T19:12:44.002616Z"
    }
   },
   "cell_type": "code",
   "source": "df_pyspark.na.drop(how='all', thresh=2).show()",
   "id": "c382684aedac65f9",
   "outputs": [
    {
     "name": "stdout",
     "output_type": "stream",
     "text": [
      "+----------+---+------+-------------------+------------------+-------------+-------------+--------------------+-----------+------------+------------------+--------------------+----------------+--------------------+--------------------+----------+\n",
      "|       _c0|_c1|   _c2|                _c3|               _c4|          _c5|          _c6|                 _c7|        _c8|         _c9|              _c10|                _c11|            _c12|                _c13|                _c14|      _c15|\n",
      "+----------+---+------+-------------------+------------------+-------------+-------------+--------------------+-----------+------------+------------------+--------------------+----------------+--------------------+--------------------+----------+\n",
      "|student_id|age|gender|study_hours_per_day|social_media_hours|netflix_hours|part_time_job|attendance_percen...|sleep_hours|diet_quality|exercise_frequency|parental_educatio...|internet_quality|mental_health_rating|extracurricular_p...|exam_score|\n",
      "|     S1000| 23|Female|                0.0|               1.2|          1.1|           No|                85.0|        8.0|        Fair|                 6|              Master|         Average|                   8|                 Yes|      56.2|\n",
      "|     S1001| 20|Female|                6.9|               2.8|          2.3|           No|                97.3|        4.6|        Good|                 6|         High School|         Average|                   8|                  No|     100.0|\n",
      "|     S1002| 21|  Male|                1.4|               3.1|          1.3|           No|                94.8|        8.0|        Poor|                 1|         High School|            Poor|                   1|                  No|      34.3|\n",
      "|     S1003| 23|Female|                1.0|               3.9|          1.0|           No|                71.0|        9.2|        Poor|                 4|              Master|            Good|                   1|                 Yes|      26.8|\n",
      "|     S1004| 19|Female|                5.0|               4.4|          0.5|           No|                90.9|        4.9|        Fair|                 3|              Master|            Good|                   1|                  No|      66.4|\n",
      "|     S1005| 24|  Male|                7.2|               1.3|          0.0|           No|                82.9|        7.4|        Fair|                 1|              Master|         Average|                   4|                  No|     100.0|\n",
      "|     S1006| 21|Female|                5.6|               1.5|          1.4|          Yes|                85.8|        6.5|        Good|                 2|              Master|            Poor|                   4|                  No|      89.8|\n",
      "|     S1007| 21|Female|                4.3|               1.0|          2.0|          Yes|                77.7|        4.6|        Fair|                 0|            Bachelor|         Average|                   8|                  No|      72.6|\n",
      "|     S1008| 23|Female|                4.4|               2.2|          1.7|           No|               100.0|        7.1|        Good|                 3|            Bachelor|            Good|                   1|                  No|      78.9|\n",
      "|     S1009| 18|Female|                4.8|               3.1|          1.3|           No|                95.4|        7.5|        Good|                 5|            Bachelor|            Good|                  10|                 Yes|     100.0|\n",
      "|     S1010| 19|Female|                4.6|               3.7|          0.8|           No|                77.6|        5.8|        Fair|                 1|                None|            Good|                   3|                  No|      63.3|\n",
      "|     S1011| 23|  Male|                3.9|               2.4|          2.5|           No|                71.7|        7.9|        Fair|                 2|            Bachelor|         Average|                   1|                  No|      74.4|\n",
      "|     S1012| 19|Female|                3.7|               2.1|          0.4|          Yes|                81.1|        4.5|        Fair|                 1|            Bachelor|            Good|                   9|                  No|      76.9|\n",
      "|     S1013| 19|Female|                3.4|               2.7|          2.7|           No|                89.3|        4.7|        Fair|                 4|            Bachelor|            Good|                  10|                  No|      75.8|\n",
      "|     S1014| 24|  Male|                2.4|               1.5|          0.7|           No|                87.4|        6.7|        Poor|                 6|            Bachelor|         Average|                   9|                  No|      78.9|\n",
      "|     S1015| 21|  Male|                3.1|               5.0|          1.0|           No|                97.5|        6.5|        Good|                 6|         High School|         Average|                   7|                  No|      74.0|\n",
      "|     S1016| 20|  Male|                1.0|               0.6|          0.2|           No|                92.9|        5.6|        Poor|                 3|         High School|            Poor|                   8|                 Yes|      55.2|\n",
      "|     S1017| 24|Female|                3.4|               2.7|          1.2|           No|                94.7|        7.5|        Poor|                 0|         High School|         Average|                   1|                 Yes|      70.8|\n",
      "|     S1018| 24| Other|                2.0|               4.9|          2.9|          Yes|                88.3|        7.1|        Good|                 2|         High School|            Good|                   5|                  No|      43.9|\n",
      "+----------+---+------+-------------------+------------------+-------------+-------------+--------------------+-----------+------------+------------------+--------------------+----------------+--------------------+--------------------+----------+\n",
      "only showing top 20 rows\n",
      "\n"
     ]
    }
   ],
   "execution_count": 19
  },
  {
   "metadata": {
    "ExecuteTime": {
     "end_time": "2025-05-28T19:12:44.526906Z",
     "start_time": "2025-05-28T19:12:44.232299Z"
    }
   },
   "cell_type": "code",
   "source": "df_pyspark.na.drop(how='all', subset=['_c0']).show()",
   "id": "e9ea8106169b5f91",
   "outputs": [
    {
     "name": "stdout",
     "output_type": "stream",
     "text": [
      "+----------+---+------+-------------------+------------------+-------------+-------------+--------------------+-----------+------------+------------------+--------------------+----------------+--------------------+--------------------+----------+\n",
      "|       _c0|_c1|   _c2|                _c3|               _c4|          _c5|          _c6|                 _c7|        _c8|         _c9|              _c10|                _c11|            _c12|                _c13|                _c14|      _c15|\n",
      "+----------+---+------+-------------------+------------------+-------------+-------------+--------------------+-----------+------------+------------------+--------------------+----------------+--------------------+--------------------+----------+\n",
      "|student_id|age|gender|study_hours_per_day|social_media_hours|netflix_hours|part_time_job|attendance_percen...|sleep_hours|diet_quality|exercise_frequency|parental_educatio...|internet_quality|mental_health_rating|extracurricular_p...|exam_score|\n",
      "|     S1000| 23|Female|                0.0|               1.2|          1.1|           No|                85.0|        8.0|        Fair|                 6|              Master|         Average|                   8|                 Yes|      56.2|\n",
      "|     S1001| 20|Female|                6.9|               2.8|          2.3|           No|                97.3|        4.6|        Good|                 6|         High School|         Average|                   8|                  No|     100.0|\n",
      "|     S1002| 21|  Male|                1.4|               3.1|          1.3|           No|                94.8|        8.0|        Poor|                 1|         High School|            Poor|                   1|                  No|      34.3|\n",
      "|     S1003| 23|Female|                1.0|               3.9|          1.0|           No|                71.0|        9.2|        Poor|                 4|              Master|            Good|                   1|                 Yes|      26.8|\n",
      "|     S1004| 19|Female|                5.0|               4.4|          0.5|           No|                90.9|        4.9|        Fair|                 3|              Master|            Good|                   1|                  No|      66.4|\n",
      "|     S1005| 24|  Male|                7.2|               1.3|          0.0|           No|                82.9|        7.4|        Fair|                 1|              Master|         Average|                   4|                  No|     100.0|\n",
      "|     S1006| 21|Female|                5.6|               1.5|          1.4|          Yes|                85.8|        6.5|        Good|                 2|              Master|            Poor|                   4|                  No|      89.8|\n",
      "|     S1007| 21|Female|                4.3|               1.0|          2.0|          Yes|                77.7|        4.6|        Fair|                 0|            Bachelor|         Average|                   8|                  No|      72.6|\n",
      "|     S1008| 23|Female|                4.4|               2.2|          1.7|           No|               100.0|        7.1|        Good|                 3|            Bachelor|            Good|                   1|                  No|      78.9|\n",
      "|     S1009| 18|Female|                4.8|               3.1|          1.3|           No|                95.4|        7.5|        Good|                 5|            Bachelor|            Good|                  10|                 Yes|     100.0|\n",
      "|     S1010| 19|Female|                4.6|               3.7|          0.8|           No|                77.6|        5.8|        Fair|                 1|                None|            Good|                   3|                  No|      63.3|\n",
      "|     S1011| 23|  Male|                3.9|               2.4|          2.5|           No|                71.7|        7.9|        Fair|                 2|            Bachelor|         Average|                   1|                  No|      74.4|\n",
      "|     S1012| 19|Female|                3.7|               2.1|          0.4|          Yes|                81.1|        4.5|        Fair|                 1|            Bachelor|            Good|                   9|                  No|      76.9|\n",
      "|     S1013| 19|Female|                3.4|               2.7|          2.7|           No|                89.3|        4.7|        Fair|                 4|            Bachelor|            Good|                  10|                  No|      75.8|\n",
      "|     S1014| 24|  Male|                2.4|               1.5|          0.7|           No|                87.4|        6.7|        Poor|                 6|            Bachelor|         Average|                   9|                  No|      78.9|\n",
      "|     S1015| 21|  Male|                3.1|               5.0|          1.0|           No|                97.5|        6.5|        Good|                 6|         High School|         Average|                   7|                  No|      74.0|\n",
      "|     S1016| 20|  Male|                1.0|               0.6|          0.2|           No|                92.9|        5.6|        Poor|                 3|         High School|            Poor|                   8|                 Yes|      55.2|\n",
      "|     S1017| 24|Female|                3.4|               2.7|          1.2|           No|                94.7|        7.5|        Poor|                 0|         High School|         Average|                   1|                 Yes|      70.8|\n",
      "|     S1018| 24| Other|                2.0|               4.9|          2.9|          Yes|                88.3|        7.1|        Good|                 2|         High School|            Good|                   5|                  No|      43.9|\n",
      "+----------+---+------+-------------------+------------------+-------------+-------------+--------------------+-----------+------------+------------------+--------------------+----------------+--------------------+--------------------+----------+\n",
      "only showing top 20 rows\n",
      "\n"
     ]
    }
   ],
   "execution_count": 20
  },
  {
   "metadata": {},
   "cell_type": "markdown",
   "source": "## Filter operations",
   "id": "aba549800c296cf7"
  },
  {
   "metadata": {
    "ExecuteTime": {
     "end_time": "2025-05-28T19:12:44.990549Z",
     "start_time": "2025-05-28T19:12:44.709102Z"
    }
   },
   "cell_type": "code",
   "source": "df_pyspark.filter(\"_c3>=4.0\").show()",
   "id": "b36b09076ae3e8f5",
   "outputs": [
    {
     "name": "stdout",
     "output_type": "stream",
     "text": [
      "+-----+---+------+---+---+---+---+-----+---+----+----+-----------+-------+----+----+-----+\n",
      "|  _c0|_c1|   _c2|_c3|_c4|_c5|_c6|  _c7|_c8| _c9|_c10|       _c11|   _c12|_c13|_c14| _c15|\n",
      "+-----+---+------+---+---+---+---+-----+---+----+----+-----------+-------+----+----+-----+\n",
      "|S1001| 20|Female|6.9|2.8|2.3| No| 97.3|4.6|Good|   6|High School|Average|   8|  No|100.0|\n",
      "|S1004| 19|Female|5.0|4.4|0.5| No| 90.9|4.9|Fair|   3|     Master|   Good|   1|  No| 66.4|\n",
      "|S1005| 24|  Male|7.2|1.3|0.0| No| 82.9|7.4|Fair|   1|     Master|Average|   4|  No|100.0|\n",
      "|S1006| 21|Female|5.6|1.5|1.4|Yes| 85.8|6.5|Good|   2|     Master|   Poor|   4|  No| 89.8|\n",
      "|S1007| 21|Female|4.3|1.0|2.0|Yes| 77.7|4.6|Fair|   0|   Bachelor|Average|   8|  No| 72.6|\n",
      "|S1008| 23|Female|4.4|2.2|1.7| No|100.0|7.1|Good|   3|   Bachelor|   Good|   1|  No| 78.9|\n",
      "|S1009| 18|Female|4.8|3.1|1.3| No| 95.4|7.5|Good|   5|   Bachelor|   Good|  10| Yes|100.0|\n",
      "|S1010| 19|Female|4.6|3.7|0.8| No| 77.6|5.8|Fair|   1|       None|   Good|   3|  No| 63.3|\n",
      "|S1021| 21|  Male|5.6|2.1|2.4| No| 95.6|7.2|Fair|   1|High School|   Good|   3|  No| 82.5|\n",
      "|S1022| 18| Other|4.9|2.3|0.6| No| 84.5|6.0|Fair|   3|High School|Average|   7|  No| 98.7|\n",
      "|S1025| 22|  Male|4.9|4.3|3.3| No| 74.7|9.0|Fair|   1|High School|Average|   2| Yes| 69.9|\n",
      "|S1028| 24|  Male|4.3|2.0|2.8|Yes| 78.4|8.1|Good|   5|High School|   Poor|   3| Yes| 82.8|\n",
      "|S1033| 18|Female|4.0|0.9|1.1| No| 99.5|5.8|Poor|   2|       None|Average|   5|  No| 70.7|\n",
      "|S1035| 21|Female|4.2|1.7|0.0|Yes| 84.2|6.5|Good|   1|   Bachelor|Average|   3|  No| 72.6|\n",
      "|S1037| 17|  Male|4.3|2.5|0.0|Yes| 64.1|3.9|Good|   0|High School|Average|   2|  No| 59.4|\n",
      "|S1039| 19|  Male|5.5|3.1|2.3| No| 71.3|5.7|Good|   1|High School|Average|   3|  No| 82.3|\n",
      "|S1043| 24|Female|4.3|0.9|3.2| No| 62.8|7.1|Poor|   0|   Bachelor|   Good|   2|  No| 65.7|\n",
      "|S1049| 22|Female|6.1|2.5|2.3| No|100.0|5.8|Poor|   5|High School|Average|   1|  No| 96.5|\n",
      "|S1053| 20|Female|4.8|2.0|3.5| No|100.0|6.0|Good|   0|   Bachelor|   Good|   7| Yes| 70.6|\n",
      "|S1055| 20|  Male|5.4|2.8|3.8| No| 91.8|6.9|Good|   2|High School|   Good|   8|  No| 87.2|\n",
      "+-----+---+------+---+---+---+---+-----+---+----+----+-----------+-------+----+----+-----+\n",
      "only showing top 20 rows\n",
      "\n"
     ]
    }
   ],
   "execution_count": 21
  },
  {
   "metadata": {
    "ExecuteTime": {
     "end_time": "2025-05-28T19:12:45.293446Z",
     "start_time": "2025-05-28T19:12:45.061298Z"
    }
   },
   "cell_type": "code",
   "source": "df_pyspark.filter((df_pyspark['_c2']=='Other') & (df_pyspark['_c5'] >= 1.0)).show()",
   "id": "9953c143b8d2eda0",
   "outputs": [
    {
     "name": "stdout",
     "output_type": "stream",
     "text": [
      "+-----+---+-----+---+---+---+---+-----+---+----+----+-----------+-------+----+----+----+\n",
      "|  _c0|_c1|  _c2|_c3|_c4|_c5|_c6|  _c7|_c8| _c9|_c10|       _c11|   _c12|_c13|_c14|_c15|\n",
      "+-----+---+-----+---+---+---+---+-----+---+----+----+-----------+-------+----+----+----+\n",
      "|S1018| 24|Other|2.0|4.9|2.9|Yes| 88.3|7.1|Good|   2|High School|   Good|   5|  No|43.9|\n",
      "|S1031| 17|Other|1.5|3.1|2.6|Yes| 96.2|8.0|Fair|   4|   Bachelor|Average|   3| Yes|51.3|\n",
      "|S1032| 20|Other|2.6|4.9|4.3| No| 82.1|6.9|Good|   3|   Bachelor|   Good|   7|  No|52.1|\n",
      "|S1081| 20|Other|3.2|3.2|5.0| No|100.0|6.7|Good|   5|High School|   Poor|   2|  No|57.6|\n",
      "|S1178| 17|Other|2.9|2.5|2.4|Yes| 83.7|6.3|Poor|   5|       None|   Good|   9|  No|65.2|\n",
      "|S1205| 21|Other|3.3|4.3|3.9| No| 90.4|6.4|Fair|   0|High School|   Good|   4|  No|56.4|\n",
      "|S1310| 24|Other|5.3|3.8|1.7| No| 79.0|7.1|Good|   6|     Master|Average|   8|  No|96.3|\n",
      "|S1343| 18|Other|3.5|1.8|1.9| No| 85.8|6.6|Fair|   0|High School|   Good|   9|  No|85.0|\n",
      "|S1347| 20|Other|4.9|4.0|1.7| No| 91.0|7.7|Fair|   0|     Master|Average|   3|  No|77.0|\n",
      "|S1432| 21|Other|4.2|2.4|4.3| No| 80.1|5.5|Fair|   0|     Master|   Good|   9|  No|70.7|\n",
      "|S1511| 18|Other|2.9|3.2|2.8| No|100.0|5.9|Fair|   5|High School|Average|   2|  No|63.0|\n",
      "|S1523| 23|Other|4.0|3.4|3.2| No| 83.0|6.6|Good|   5|High School|Average|   1|  No|61.7|\n",
      "|S1554| 17|Other|2.7|2.9|2.9| No| 80.9|6.6|Fair|   0|       None|   Poor|   6|  No|53.4|\n",
      "|S1561| 19|Other|3.1|1.9|3.7| No| 78.5|7.9|Good|   0|   Bachelor|   Good|  10| Yes|66.6|\n",
      "|S1574| 23|Other|4.7|4.9|2.7| No| 86.4|8.4|Poor|   6|   Bachelor|Average|   2|  No|89.6|\n",
      "|S1588| 20|Other|3.8|3.0|3.4| No| 76.4|7.8|Fair|   1|High School|Average|   2|  No|61.5|\n",
      "|S1601| 24|Other|4.6|1.5|1.8| No| 81.5|7.3|Fair|   0|High School|   Good|   5| Yes|80.2|\n",
      "|S1604| 23|Other|3.1|2.8|2.0| No|100.0|6.8|Poor|   4|     Master|   Good|   8| Yes|72.8|\n",
      "|S1671| 22|Other|3.8|1.4|1.2| No| 81.2|6.7|Good|   2|High School|Average|   3| Yes|70.4|\n",
      "|S1680| 24|Other|3.3|2.9|1.1| No| 83.3|7.8|Poor|   6|       None|   Good|   4|  No|70.4|\n",
      "+-----+---+-----+---+---+---+---+-----+---+----+----+-----------+-------+----+----+----+\n",
      "only showing top 20 rows\n",
      "\n"
     ]
    }
   ],
   "execution_count": 22
  },
  {
   "metadata": {},
   "cell_type": "markdown",
   "source": "GroupBy and Aggregation",
   "id": "50438914f68b87d0"
  },
  {
   "metadata": {
    "ExecuteTime": {
     "end_time": "2025-05-28T19:15:13.815870Z",
     "start_time": "2025-05-28T19:15:13.663628Z"
    }
   },
   "cell_type": "code",
   "source": "df_pyspark.groupBy('_c1').max().show()",
   "id": "a84d9bf9df04416",
   "outputs": [
    {
     "name": "stdout",
     "output_type": "stream",
     "text": [
      "+---+\n",
      "|_c1|\n",
      "+---+\n",
      "| 22|\n",
      "| 18|\n",
      "| 17|\n",
      "| 19|\n",
      "| 23|\n",
      "|age|\n",
      "| 24|\n",
      "| 20|\n",
      "| 21|\n",
      "+---+\n",
      "\n"
     ]
    }
   ],
   "execution_count": 25
  }
 ],
 "metadata": {
  "kernelspec": {
   "display_name": "Python 3 (ipykernel)",
   "language": "python",
   "name": "python3"
  },
  "language_info": {
   "codemirror_mode": {
    "name": "ipython",
    "version": 3
   },
   "file_extension": ".py",
   "mimetype": "text/x-python",
   "name": "python",
   "nbconvert_exporter": "python",
   "pygments_lexer": "ipython3",
   "version": "3.9.6"
  }
 },
 "nbformat": 4,
 "nbformat_minor": 5
}
